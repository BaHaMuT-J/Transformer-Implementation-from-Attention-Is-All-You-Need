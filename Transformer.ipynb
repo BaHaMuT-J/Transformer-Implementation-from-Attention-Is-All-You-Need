{
 "cells": [
  {
   "cell_type": "code",
   "execution_count": 1,
   "id": "2eb8ed21",
   "metadata": {},
   "outputs": [],
   "source": [
    "from datasets import load_dataset, load_from_disk\n",
    "\n",
    "import numpy as np\n",
    "import pandas as pd\n",
    "import matplotlib.pyplot as plt\n",
    "\n",
    "from minbpe import BasicTokenizer\n",
    "\n",
    "import torch\n",
    "from torch import nn\n",
    "import torch.optim as optim\n",
    "from torch.nn import functional as F\n",
    "from torch.utils.data import  Dataset, DataLoader\n",
    "\n",
    "from evaluate import load"
   ]
  },
  {
   "cell_type": "markdown",
   "id": "82e12e01",
   "metadata": {},
   "source": [
    "## Read Data"
   ]
  },
  {
   "cell_type": "code",
   "execution_count": null,
   "id": "0cc74f5e",
   "metadata": {},
   "outputs": [],
   "source": [
    "ds = load_dataset(\"abisee/cnn_dailymail\", \"3.0.0\")\n",
    "\n",
    "# Save to disk\n",
    "# ds.save_to_disk(\"data/cnn_dailymail_dataset\")\n",
    "\n",
    "ds"
   ]
  },
  {
   "cell_type": "code",
   "execution_count": 2,
   "id": "97234a43",
   "metadata": {},
   "outputs": [
    {
     "data": {
      "text/plain": [
       "DatasetDict({\n",
       "    train: Dataset({\n",
       "        features: ['article', 'highlights', 'id'],\n",
       "        num_rows: 287113\n",
       "    })\n",
       "    validation: Dataset({\n",
       "        features: ['article', 'highlights', 'id'],\n",
       "        num_rows: 13368\n",
       "    })\n",
       "    test: Dataset({\n",
       "        features: ['article', 'highlights', 'id'],\n",
       "        num_rows: 11490\n",
       "    })\n",
       "})"
      ]
     },
     "execution_count": 2,
     "metadata": {},
     "output_type": "execute_result"
    }
   ],
   "source": [
    "# If you already save to disk\n",
    "ds = load_from_disk(\"data/cnn_dailymail_dataset\")\n",
    "ds"
   ]
  },
  {
   "cell_type": "code",
   "execution_count": 3,
   "id": "14e95a1b",
   "metadata": {},
   "outputs": [
    {
     "data": {
      "text/plain": [
       "(Dataset({\n",
       "     features: ['article', 'highlights'],\n",
       "     num_rows: 287113\n",
       " }),\n",
       " Dataset({\n",
       "     features: ['article', 'highlights'],\n",
       "     num_rows: 13368\n",
       " }),\n",
       " Dataset({\n",
       "     features: ['article', 'highlights'],\n",
       "     num_rows: 11490\n",
       " }))"
      ]
     },
     "execution_count": 3,
     "metadata": {},
     "output_type": "execute_result"
    }
   ],
   "source": [
    "train_data = ds['train'].select_columns([\"article\", \"highlights\"])\n",
    "val_data = ds['validation'].select_columns([\"article\", \"highlights\"])\n",
    "test_data = ds['test'].select_columns([\"article\", \"highlights\"])\n",
    "train_data, val_data, test_data"
   ]
  },
  {
   "cell_type": "markdown",
   "id": "1503fb1d",
   "metadata": {},
   "source": [
    "## Tokenization"
   ]
  },
  {
   "cell_type": "markdown",
   "id": "643ad841",
   "metadata": {},
   "source": [
    "### Tokenizer"
   ]
  },
  {
   "cell_type": "code",
   "execution_count": null,
   "id": "8452af7b",
   "metadata": {},
   "outputs": [
    {
     "data": {
      "text/plain": [
       "3530528"
      ]
     },
     "execution_count": 14,
     "metadata": {},
     "output_type": "execute_result"
    }
   ],
   "source": [
    "# The data used for training\n",
    "all_articles_text = \" \".join(train_data[\"article\"][:1000])\n",
    "len(all_articles_text)"
   ]
  },
  {
   "cell_type": "code",
   "execution_count": null,
   "id": "eb2b373d",
   "metadata": {},
   "outputs": [],
   "source": [
    "tokenizer = BasicTokenizer()\n",
    "tokenizer.train(all_articles_text, vocab_size=1024)"
   ]
  },
  {
   "cell_type": "code",
   "execution_count": null,
   "id": "e9e25f99",
   "metadata": {},
   "outputs": [
    {
     "data": {
      "text/plain": [
       "[76, 79, 78, 68, 79]"
      ]
     },
     "execution_count": 18,
     "metadata": {},
     "output_type": "execute_result"
    }
   ],
   "source": [
    "# See how it encode\n",
    "encoded_article_0 = tokenizer.encode(train_data['article'][0])\n",
    "encoded_article_0[:5]"
   ]
  },
  {
   "cell_type": "code",
   "execution_count": 26,
   "id": "0875b4a7",
   "metadata": {},
   "outputs": [
    {
     "data": {
      "text/plain": [
       "('LONDON, England (Reuters) -- Harry Potter star Daniel Radcliffe gains access to a reported £20 million ($41.1 million) fortune as he turns 18 on Monday, but he insists the money won\\'t cast a spell on him. Daniel Radcliffe as Harry Potter in \"Harry Potter and the Order of the Phoenix\" To the disappointment of gossip columnists around the world, the young actor says he has no plans to fritter his cash away on fast cars, drink and celebrity parties. \"I don\\'t plan to be one of those people who, as soon as they turn 18, suddenly buy themselves a massive sports car collection or something similar,\" he told an Australian interviewer earlier this month. \"I don\\'t think I\\'ll be particularly extravagant. \"The things I like buying are things that cost about 10 pounds -- books and CDs and DVDs.\" At 18, Radcliffe will be able to gamble in a casino, buy a drink in a pub or see the horror film \"Hostel: Part II,\" currently six places below his number one movie on the UK box office chart. Details of how he\\'ll mark his landmark birthday are under wraps. His agent and publicist had no comment on his plans. \"I\\'ll definitely have some sort of party,\" he said in an interview. \"Hopefully none of you will be reading about it.\" Radcliffe\\'s earnings from the first five Potter films have been held in a trust fund which he has not been able to touch. Despite his growing fame and riches, the actor says he is keeping his feet firmly on the ground. \"People are always looking to say \\'kid star goes off the rails,\\'\" he told reporters last month. \"But I try very hard not to go that way because it would be too easy for them.\" His latest outing as the boy wizard in \"Harry Potter and the Order of the Phoenix\" is breaking records on both sides of the Atlantic and he will reprise the role in the last two films.  Watch I-Reporter give her review of Potter\\'s latest » . There is life beyond Potter, however. The Londoner has filmed a TV movie called \"My Boy Jack,\" about author Rudyard Kipling and his son, due for release later this year. He will also appear in \"December Boys,\" an Australian film about four boys who escape an orphanage. Earlier this year, he made his stage debut playing a tortured teenager in Peter Shaffer\\'s \"Equus.\" Meanwhile, he is braced for even closer media scrutiny now that he\\'s legally an adult: \"I just think I\\'m going to be more sort of fair game,\" he told Reuters. E-mail to a friend . Copyright 2007 Reuters. All rights reserved.This material may not be published, broadcast, rewritten, or redistributed.',\n",
       " True)"
      ]
     },
     "execution_count": 26,
     "metadata": {},
     "output_type": "execute_result"
    }
   ],
   "source": [
    "# See how it decode\n",
    "decoded_article_0 = tokenizer.decode(encoded_article_0)\n",
    "decoded_article_0, decoded_article_0 == train_data['article'][0]"
   ]
  },
  {
   "cell_type": "code",
   "execution_count": null,
   "id": "2275d418",
   "metadata": {},
   "outputs": [],
   "source": [
    "# Add special tokens, we do not need <unk> here because data is in english and fit in ASCII\n",
    "max_vocab_id = list(tokenizer.vocab.keys())[-1]\n",
    "tokenizer.special_tokens = {\n",
    "    \"<sos>\": max_vocab_id + 1,\n",
    "    \"<eos>\": max_vocab_id + 2,\n",
    "    \"<unk>\": max_vocab_id + 3,\n",
    "    \"<pad>\": max_vocab_id + 4,\n",
    "}"
   ]
  },
  {
   "cell_type": "code",
   "execution_count": null,
   "id": "70b78ef0",
   "metadata": {},
   "outputs": [
    {
     "data": {
      "text/plain": [
       "('<sos> LONDON, England (Reuters) -- Harry Potter star Daniel Radcliffe gains access to a reported £20 million ($41.1 million) fortune as he turns 18 on Monday, but he insists the money won\\'t cast a spell on him. Daniel Radcliffe as Harry Potter in \"Harry Potter and the Order of the Phoenix\" To the disappointment of gossip columnists around the world, the young actor says he has no plans to fritter his cash away on fast cars, drink and celebrity parties. \"I don\\'t plan to be one of those people who, as soon as they turn 18, suddenly buy themselves a massive sports car collection or something similar,\" he told an Australian interviewer earlier this month. \"I don\\'t think I\\'ll be particularly extravagant. \"The things I like buying are things that cost about 10 pounds -- books and CDs and DVDs.\" At 18, Radcliffe will be able to gamble in a casino, buy a drink in a pub or see the horror film \"Hostel: Part II,\" currently six places below his number one movie on the UK box office chart. Details of how he\\'ll mark his landmark birthday are under wraps. His agent and publicist had no comment on his plans. \"I\\'ll definitely have some sort of party,\" he said in an interview. \"Hopefully none of you will be reading about it.\" Radcliffe\\'s earnings from the first five Potter films have been held in a trust fund which he has not been able to touch. Despite his growing fame and riches, the actor says he is keeping his feet firmly on the ground. \"People are always looking to say \\'kid star goes off the rails,\\'\" he told reporters last month. \"But I try very hard not to go that way because it would be too easy for them.\" His latest outing as the boy wizard in \"Harry Potter and the Order of the Phoenix\" is breaking records on both sides of the Atlantic and he will reprise the role in the last two films.  Watch I-Reporter give her review of Potter\\'s latest » . There is life beyond Potter, however. The Londoner has filmed a TV movie called \"My Boy Jack,\" about author Rudyard Kipling and his son, due for release later this year. He will also appear in \"December Boys,\" an Australian film about four boys who escape an orphanage. Earlier this year, he made his stage debut playing a tortured teenager in Peter Shaffer\\'s \"Equus.\" Meanwhile, he is braced for even closer media scrutiny now that he\\'s legally an adult: \"I just think I\\'m going to be more sort of fair game,\" he told Reuters. E-mail to a friend . Copyright 2007 Reuters. All rights reserved.This material may not be published, broadcast, rewritten, or redistributed. <eos> <pad> <pad>',\n",
       " True)"
      ]
     },
     "execution_count": 34,
     "metadata": {},
     "output_type": "execute_result"
    }
   ],
   "source": [
    "# See how it works with special tokens\n",
    "encoded_special_0 = tokenizer.encode(f\"<sos> {train_data['article'][0]} <eos> <pad> <pad>\")\n",
    "decoded_special_0 = tokenizer.decode(encoded_special_0)\n",
    "decoded_special_0, decoded_special_0 == f\"<sos> {train_data['article'][0]} <eos> <pad> <pad>\""
   ]
  },
  {
   "cell_type": "code",
   "execution_count": 30,
   "id": "c1f5d367",
   "metadata": {},
   "outputs": [],
   "source": [
    "# Save to disk\n",
    "tokenizer.save(\"model/model_article_1000\")"
   ]
  },
  {
   "cell_type": "code",
   "execution_count": 4,
   "id": "1c101fe3",
   "metadata": {},
   "outputs": [],
   "source": [
    "# Load from disk\n",
    "tokenizer = BasicTokenizer()\n",
    "tokenizer.load(\"model/model_article_1000.model\")"
   ]
  },
  {
   "cell_type": "markdown",
   "id": "883b59bb",
   "metadata": {},
   "source": [
    "### Tokenize Data"
   ]
  },
  {
   "cell_type": "code",
   "execution_count": null,
   "id": "884bc133",
   "metadata": {},
   "outputs": [],
   "source": [
    "def tokenize_fields(example):\n",
    "    example[\"article\"] = tokenizer.encode(example[\"article\"])\n",
    "    example[\"highlights\"] = tokenizer.encode(example[\"highlights\"])\n",
    "    return example\n",
    "\n",
    "# Tokenize each split\n",
    "train_tokenized = train_data.select(range(10_000)).map(tokenize_fields)\n",
    "val_tokenized = val_data.select(range(2500)).map(tokenize_fields)\n",
    "test_tokenized = test_data.select(range(2500)).map(tokenize_fields)"
   ]
  },
  {
   "cell_type": "code",
   "execution_count": null,
   "id": "1db2f5cf",
   "metadata": {},
   "outputs": [],
   "source": [
    "# Save to disk\n",
    "train_tokenized.save_to_disk(\"data/cnn_train_tokenized_10k\")\n",
    "val_tokenized.save_to_disk(\"data/cnn_val_tokenized_2500\")\n",
    "test_tokenized.save_to_disk(\"data/cnn_test_tokenized_2500\")"
   ]
  },
  {
   "cell_type": "code",
   "execution_count": 5,
   "id": "ffd69a09",
   "metadata": {},
   "outputs": [],
   "source": [
    "# If you already save to disk\n",
    "train_tokenized = load_from_disk(\"data/cnn_train_tokenized_10k\")\n",
    "val_tokenized = load_from_disk(\"data/cnn_val_tokenized_2500\")\n",
    "test_tokenized = load_from_disk(\"data/cnn_test_tokenized_2500\")"
   ]
  },
  {
   "cell_type": "markdown",
   "id": "20d77b17",
   "metadata": {},
   "source": [
    "## Vectorizer"
   ]
  },
  {
   "cell_type": "code",
   "execution_count": 6,
   "id": "ec568f06",
   "metadata": {},
   "outputs": [],
   "source": [
    "class Vectorizer:\n",
    "  def __init__(self, tokenizer: BasicTokenizer):\n",
    "    self.tokenizer = tokenizer\n",
    "    self.vocab_size = len(tokenizer.vocab)\n",
    "    self.sos_idx = tokenizer.special_tokens[\"<sos>\"]\n",
    "    self.eos_idx = tokenizer.special_tokens[\"<eos>\"]\n",
    "    self.pad_idx = tokenizer.special_tokens[\"<pad>\"]\n",
    "\n",
    "  # Add <sos> and <eos> at the start and end, pad data if necessasry\n",
    "  def index_vectorize(self, tokens, max_length=1024):\n",
    "    indices = tokens[:max_length - 2]\n",
    "    indices = [self.sos_idx] + indices + [self.eos_idx]\n",
    "    indices += [self.pad_idx] * (max_length - len(indices))\n",
    "    return indices"
   ]
  },
  {
   "cell_type": "code",
   "execution_count": 7,
   "id": "55d1b19d",
   "metadata": {},
   "outputs": [],
   "source": [
    "article_vectorizer = Vectorizer(tokenizer)"
   ]
  },
  {
   "cell_type": "code",
   "execution_count": 61,
   "id": "674a996c",
   "metadata": {},
   "outputs": [
    {
     "data": {
      "text/plain": [
       "'<sos>LONDON, England (Reuters) -- Harry Potter star Daniel Radcliffe gains access to a reported £20 million ($41.1 million) fortune as he turns 18 on Monday, but he insists the money won\\'t cast a spell on him. Daniel Radcliffe as Harry Potter in \"Harry Potter and the Order of the Phoenix\" To the disappointment of gossip columnists around the world, the young actor says he has no plans to fritter his cash away on fast cars, drink and celebrity parties. \"I don\\'t plan to be one of those people who, as soon as they turn 18, suddenly buy themselves a massive sports car collection or something similar,\" he told an Australian interviewer earlier this month. \"I don\\'t think I\\'ll be particularly extravagant. \"The things I like buying are things that cost about 10 pounds -- books and CDs and DVDs.\" At 18, Radcliffe will be able to gamble in a casino, buy a drink in a pub or see the horror film \"Hostel: Part II,\" currently six places below his number one movie on the UK box office chart. Details of how he\\'ll mark his landmark birthday are under wraps. His agent and publicist had no comment on his plans. \"I\\'ll definitely have some sort of party,\" he said in an interview. \"Hopefully none of you will be reading about it.\" Radcliffe\\'s earnings from the first five Potter films have been held in a trust fund which he has not been able to touch. Despite his growing fame and riches, the actor says he is keeping his feet firmly on the ground. \"People are always looking to say \\'kid star goes off the rails,\\'\" he told reporters last month. \"But I try very hard not to go that way because it would be too easy for them.\" His latest outing as the boy wizard in \"Harry Potter and the Order of the Phoenix\" is breaking records on both sides of the Atlantic and he will reprise the role in the last two films.  Watch I-Reporter give her review of Potter\\'s latest » . There is life beyond Potter, however. The Londoner has filmed a TV movie called \"My Boy Jack,\" about author Rudyard Kipling and his son, due for release later this year. He will also appear in \"December Boys,\" an Australian film about four boys who escape an orphanage. Earlier this year, he made his stage debut playing a tortured teenager in Peter Shaffer\\'s \"Equus.\" Meanwhile, he is braced for even closer media scrutiny now that he\\'s legally an adult: \"I just think I\\'m going to be more sort of fair game,\" he told Reuters. E-mail to a friend . Copyright 2007 Reuters. All rights reserved.This material may not be published, broadcast, rewritten, or redistributed.<eos><pad><pad><pad><pad><pad>'"
      ]
     },
     "execution_count": 61,
     "metadata": {},
     "output_type": "execute_result"
    }
   ],
   "source": [
    "tokenizer.decode(article_vectorizer.index_vectorize(encoded_article_0))"
   ]
  },
  {
   "cell_type": "markdown",
   "id": "8b23f27d",
   "metadata": {},
   "source": [
    "## Dataset"
   ]
  },
  {
   "cell_type": "code",
   "execution_count": 8,
   "id": "610deb49",
   "metadata": {},
   "outputs": [],
   "source": [
    "class IndexArticleDataset(Dataset):\n",
    "  def __init__(self, input, target, vectorizer: Vectorizer, max_input_length=1024, max_target_length=128):\n",
    "    self.input = input\n",
    "    self.target = target\n",
    "    self.vectorizer = vectorizer\n",
    "    \n",
    "    self.max_input_length = max_input_length\n",
    "    self.max_target_length = max_target_length\n",
    "    \n",
    "    self.sos_index = vectorizer.sos_idx\n",
    "    self.eos_index = vectorizer.eos_idx\n",
    "    self.pad_index = vectorizer.pad_idx\n",
    "\n",
    "  def __len__(self):\n",
    "    return len(self.input)\n",
    "\n",
    "  def __getitem__(self, index):\n",
    "    return {'x': torch.as_tensor(self.vectorizer.index_vectorize(self.input[index], self.max_input_length)),\n",
    "            'y': torch.as_tensor(self.vectorizer.index_vectorize(self.target[index], self.max_target_length))}\n",
    "\n",
    "  def get_vectorizer(self):\n",
    "    return self.vectorizer \n",
    "  \n",
    "  def get_num_batches(self, batch_size):\n",
    "    return len(self) // batch_size "
   ]
  },
  {
   "cell_type": "code",
   "execution_count": 9,
   "id": "f1ae289e",
   "metadata": {},
   "outputs": [],
   "source": [
    "train_dataset = IndexArticleDataset(train_tokenized['article'], \n",
    "                                    train_tokenized['highlights'], \n",
    "                                    article_vectorizer,\n",
    "                                    max_input_length=512,\n",
    "                                    max_target_length=128)\n",
    "\n",
    "val_dataset = IndexArticleDataset(val_tokenized['article'], \n",
    "                                  val_tokenized['highlights'], \n",
    "                                  article_vectorizer,\n",
    "                                  max_input_length=512,\n",
    "                                  max_target_length=128)\n",
    "\n",
    "test_dataset = IndexArticleDataset(test_tokenized['article'], \n",
    "                                   test_tokenized['highlights'], \n",
    "                                   article_vectorizer,\n",
    "                                   max_input_length=512,\n",
    "                                   max_target_length=128)"
   ]
  },
  {
   "cell_type": "code",
   "execution_count": 85,
   "id": "4e698974",
   "metadata": {},
   "outputs": [
    {
     "data": {
      "text/plain": [
       "(512, 128)"
      ]
     },
     "execution_count": 85,
     "metadata": {},
     "output_type": "execute_result"
    }
   ],
   "source": [
    "out_dict = train_dataset.__getitem__(0)\n",
    "len(out_dict['x']), len(out_dict['y'])"
   ]
  },
  {
   "cell_type": "code",
   "execution_count": 87,
   "id": "4379d294",
   "metadata": {},
   "outputs": [
    {
     "data": {
      "text/plain": [
       "('<sos>LONDON, England (Reuters) -- Harry Potter star Daniel Radcliffe gains access to a reported £20 million ($41.1 million) fortune as he turns 18 on Monday, but he insists the money won\\'t cast a spell on him. Daniel Radcliffe as Harry Potter in \"Harry Potter and the Order of the Phoenix\" To the disappointment of gossip columnists around the world, the young actor says he has no plans to fritter his cash away on fast cars, drink and celebrity parties. \"I don\\'t plan to be one of those people who, as soon as they turn 18, suddenly buy themselves a massive sports car collection or something similar,\" he told an Australian interviewer earlier this month. \"I don\\'t think I\\'ll be particularly extravagant. \"The things I like buying are things that cost about 10 pounds -- books and CDs and DVDs.\" At 18, Radcliffe will be able to gamble in a casino, buy a drink in a pub or see the horror film \"Hostel: Part II,\" currently six places below his number one movie on the UK box office chart. Details of how he\\'ll mark his landmark birthday are under wraps. His agent and publicist had no comment on his plans. \"I\\'ll definitely have some sort of party,\" he said in an interview. \"Hopefully none of you will be reading about it.\" Rad<eos>',\n",
       " \"<sos>Harry Potter star Daniel Radcliffe gets £20M fortune as he turns 18 Monday .\\nYoung actor says he has no plans to fritter his cash away .\\nRadcliffe's earnings from first five Potter films have been held in trust fund .<eos><pad><pad><pad><pad><pad><pad><pad><pad><pad><pad><pad><pad><pad><pad><pad><pad><pad><pad><pad><pad><pad><pad><pad><pad><pad><pad><pad><pad>\")"
      ]
     },
     "execution_count": 87,
     "metadata": {},
     "output_type": "execute_result"
    }
   ],
   "source": [
    "tokenizer.decode(out_dict['x'].numpy()), tokenizer.decode(out_dict['y'].numpy())"
   ]
  },
  {
   "cell_type": "markdown",
   "id": "6e6407bc",
   "metadata": {},
   "source": [
    "## Dataloader"
   ]
  },
  {
   "cell_type": "code",
   "execution_count": 10,
   "id": "1d7cab0b",
   "metadata": {},
   "outputs": [],
   "source": [
    "def generate_batches(dataset, batch_size, \n",
    "                     shuffle=True,\n",
    "                     drop_last=True, \n",
    "                     device=\"cpu\"):\n",
    "  \n",
    "  dataloader = DataLoader(dataset=dataset, \n",
    "                          batch_size=batch_size,\n",
    "                          shuffle=shuffle, \n",
    "                          drop_last=drop_last)\n",
    "\n",
    "  for data_dict in dataloader:\n",
    "    out_data_dict = {}\n",
    "    for name, tensor in data_dict.items():\n",
    "      out_data_dict[name] = data_dict[name].to(device)\n",
    "    yield out_data_dict"
   ]
  },
  {
   "cell_type": "code",
   "execution_count": 91,
   "id": "7fc1b81f",
   "metadata": {},
   "outputs": [
    {
     "name": "stdout",
     "output_type": "stream",
     "text": [
      "x shape: torch.Size([32, 512]), y shape: torch.Size([32, 128])\n",
      "tensor([[1024,   40,   69,  ...,   78,  900, 1025],\n",
      "        [1024,   40,   84,  ...,  401,  276, 1025],\n",
      "        [1024,   78,   69,  ..., 1027, 1027, 1027],\n",
      "        ...,\n",
      "        [1024,   76,   79,  ...,  735,  373, 1025],\n",
      "        [1024,  702,   65,  ...,  456,  412, 1025],\n",
      "        [1024,  651,   32,  ...,  926,  549, 1025]])\n",
      "tensor([[1024,   69,  115,  ..., 1027, 1027, 1027],\n",
      "        [1024,   65,   99,  ..., 1027, 1027, 1027],\n",
      "        [1024,   80,  304,  ...,  331,   67, 1025],\n",
      "        ...,\n",
      "        [1024,   82,  265,  ..., 1027, 1027, 1027],\n",
      "        [1024,   78,   69,  ..., 1027, 1027, 1027],\n",
      "        [1024,   75,  612,  ...,  334,  473, 1025]])\n"
     ]
    }
   ],
   "source": [
    "# Using generate_batches to get 1 sample at a time\n",
    "for out_dict in generate_batches(dataset=train_dataset, batch_size=32):\n",
    "  x_data = out_dict['x']\n",
    "  y_target = out_dict['y']\n",
    "  print(f\"x shape: {x_data.shape}, y shape: {y_target.shape}\")\n",
    "  print(x_data)\n",
    "  print(y_target)\n",
    "  break"
   ]
  },
  {
   "cell_type": "markdown",
   "id": "e6123f56",
   "metadata": {},
   "source": [
    "## Model & Training"
   ]
  },
  {
   "cell_type": "code",
   "execution_count": 11,
   "id": "2f567a72",
   "metadata": {},
   "outputs": [
    {
     "data": {
      "text/plain": [
       "'cuda'"
      ]
     },
     "execution_count": 11,
     "metadata": {},
     "output_type": "execute_result"
    }
   ],
   "source": [
    "SEED = 42\n",
    "\n",
    "np.random.seed(SEED)\n",
    "torch.manual_seed(SEED)\n",
    "torch.cuda.manual_seed_all(SEED)\n",
    "\n",
    "device = 'cuda' if torch.cuda.is_available() else 'cpu'\n",
    "device"
   ]
  },
  {
   "cell_type": "code",
   "execution_count": 20,
   "id": "f710b561",
   "metadata": {},
   "outputs": [],
   "source": [
    "class Head(nn.Module):\n",
    "  def __init__(self, embed_dim, head_dim, max_input_length, dropout=0.5, is_masked=True):\n",
    "    super().__init__()\n",
    "    self.query = nn.Linear(embed_dim, head_dim, bias=False)\n",
    "    self.key = nn.Linear(embed_dim, head_dim, bias=False)\n",
    "    self.value = nn.Linear(embed_dim, head_dim, bias=False)\n",
    "    self.is_masked = is_masked\n",
    "    if is_masked:\n",
    "      self.register_buffer('mask', torch.tril(torch.ones(max_input_length, max_input_length)))\n",
    "    self.dropout = nn.Dropout(dropout)\n",
    "  \n",
    "  def forward(self, x, context=None):\n",
    "    B, T, C = x.shape # (batch_size, time_steps, channels=embed_dim)\n",
    "\n",
    "    if context == None:\n",
    "      context = x\n",
    "\n",
    "    Q = self.query(x)\n",
    "    K = self.key(context)\n",
    "\n",
    "    KQ = (Q @ K.transpose(-2, -1)) \n",
    "    KQ_scaled = KQ / (np.sqrt(K.shape[-1]))\n",
    "    if self.is_masked:\n",
    "      KQ_scaled = KQ_scaled.masked_fill(self.mask[:T, :T] == 0, float('-inf'))\n",
    "    KQ_normalized_masked_softmaxed = torch.softmax(KQ_scaled, dim=-1)\n",
    "    KQ_normalized_masked_softmaxed_dropouted = self.dropout(KQ_normalized_masked_softmaxed)\n",
    "\n",
    "    V = self.value(context)\n",
    "    out = KQ_normalized_masked_softmaxed_dropouted @ V\n",
    "    return out\n",
    "  \n",
    "class MultiHeadAttention(nn.Module):\n",
    "  def __init__(self, num_heads, embed_dim, max_input_length, dropout=0.5, is_masked=True):\n",
    "    super().__init__()\n",
    "    head_dim = embed_dim // num_heads\n",
    "    self.heads = nn.ModuleList([Head(embed_dim, head_dim, max_input_length, dropout, is_masked) for _ in range(num_heads)])\n",
    "    self.linear = nn.Linear(head_dim * num_heads, embed_dim)\n",
    "    self.dropout = nn.Dropout(dropout)\n",
    "\n",
    "  def forward(self, k, context=None):\n",
    "    out = torch.cat([h(k, context) for h in self.heads], dim=-1)\n",
    "    out = self.linear(out)\n",
    "    out = self.dropout(out)\n",
    "    return out\n",
    "  \n",
    "class FeedFoward(nn.Module):\n",
    "  def __init__(self, embed_dim, dropout=0.5):\n",
    "    super().__init__()\n",
    "    self.layers = nn.Sequential(\n",
    "      nn.Linear(embed_dim, 4*embed_dim), # default: embed_dim=512, feed_forward_dim=2048)\n",
    "      nn.ReLU(),\n",
    "      nn.Linear(4*embed_dim, embed_dim),\n",
    "      nn.Dropout(dropout),\n",
    "    )\n",
    "\n",
    "  def forward(self, x):\n",
    "    return self.layers(x)\n",
    "  \n",
    "class SubLayer(nn.Module):\n",
    "  def __init__(self, layer: nn.Module, embed_dim):\n",
    "    super().__init__()\n",
    "    self.Layer = layer\n",
    "    self.ln = nn.LayerNorm(embed_dim)\n",
    "\n",
    "  def forward(self, x):\n",
    "    out = self.ln(x + self.Layer(x)) # normalization after residual connection\n",
    "    return out\n",
    "  \n",
    "class Encoder(nn.Module):\n",
    "  def __init__(self, num_heads, embed_dim, max_input_length, dropout=0.5):\n",
    "    super().__init__()\n",
    "    self.multi_head_attention = SubLayer(MultiHeadAttention(num_heads, embed_dim, max_input_length, dropout, is_masked=False), embed_dim)\n",
    "    self.feed_forward = SubLayer(FeedFoward(embed_dim, dropout), embed_dim)\n",
    "\n",
    "  def forward(self, x):\n",
    "    out = self.multi_head_attention(x)\n",
    "    out = self.feed_forward(out)\n",
    "    return out\n",
    "  \n",
    "class Decoder(nn.Module):\n",
    "  def __init__(self, num_heads, embed_dim, max_input_length, dropout=0.5):\n",
    "    super().__init__()\n",
    "    self.masked_multi_head_attention = SubLayer(MultiHeadAttention(num_heads, embed_dim, max_input_length, dropout, is_masked=True), embed_dim)\n",
    "    self.unmasked_multi_head_attention = SubLayer(MultiHeadAttention(num_heads, embed_dim, max_input_length, dropout, is_masked=False), embed_dim)\n",
    "    self.feed_forward = SubLayer(FeedFoward(embed_dim, dropout), embed_dim)\n",
    "\n",
    "  def forward(self, x, context=None):\n",
    "    out = self.masked_multi_head_attention(x)\n",
    "    \n",
    "    # In Encoder-Decoder model, context is Encoder output\n",
    "    # In Decoder-only model, context is None and skip this process\n",
    "    if context is not None:\n",
    "      out = self.unmasked_multi_head_attention(out, context)\n",
    "    \n",
    "    out = self.feed_forward(out)\n",
    "    return out"
   ]
  },
  {
   "cell_type": "code",
   "execution_count": 22,
   "id": "3199dc90",
   "metadata": {},
   "outputs": [
    {
     "data": {
      "text/plain": [
       "(torch.Size([32, 512, 512]),\n",
       " tensor([[[-2.4612e-01, -1.0677e+00,  1.6725e+00,  ...,  1.9272e-01,\n",
       "           -5.2681e-01,  1.9601e+00],\n",
       "          [-5.1204e-01, -2.2448e-02,  5.6832e-03,  ...,  2.9078e-01,\n",
       "            4.4261e-01, -5.3073e-01],\n",
       "          [-5.6891e-01,  6.1233e-02, -2.5409e+00,  ..., -6.9027e-01,\n",
       "           -2.7858e-04,  8.3592e-01],\n",
       "          ...,\n",
       "          [-6.6348e-01,  1.9151e-01, -2.2963e+00,  ..., -6.0145e-01,\n",
       "           -1.8284e-01,  1.4589e-01],\n",
       "          [ 2.0551e+00, -1.0467e+00,  3.4017e-01,  ...,  1.2957e+00,\n",
       "           -1.7362e+00,  9.7427e-02],\n",
       "          [-1.3205e+00,  1.2672e+00, -5.3233e-01,  ...,  1.3809e+00,\n",
       "           -1.5776e+00, -8.2865e-01]],\n",
       " \n",
       "         [[ 9.4725e-01, -6.5524e-01,  1.2509e+00,  ..., -1.1881e+00,\n",
       "            9.3055e-01,  1.3392e+00],\n",
       "          [-7.4565e-01, -7.6971e-01, -6.4164e-01,  ...,  2.1542e-02,\n",
       "            9.6298e-01, -3.1789e-01],\n",
       "          [-1.6280e+00, -1.3892e+00, -1.0386e+00,  ..., -1.7357e+00,\n",
       "            6.4353e-01, -7.7583e-01],\n",
       "          ...,\n",
       "          [ 7.5019e-01,  7.5881e-01,  2.3840e+00,  ..., -1.3540e+00,\n",
       "            1.9662e-01, -6.4142e-01],\n",
       "          [ 1.4947e+00, -9.7102e-01,  1.8703e+00,  ...,  1.0830e+00,\n",
       "            2.5009e-02,  7.7413e-01],\n",
       "          [-1.3659e+00,  1.3348e+00, -4.6844e-01,  ...,  1.1191e+00,\n",
       "           -1.5326e+00, -3.8550e-01]],\n",
       " \n",
       "         [[ 1.8181e-01, -8.8424e-01,  7.7644e-01,  ..., -7.4384e-01,\n",
       "            1.9062e-01,  4.5031e-01],\n",
       "          [-5.0227e-01, -8.4609e-01, -5.3521e-01,  ...,  5.6962e-02,\n",
       "            4.2443e-02, -8.1478e-01],\n",
       "          [ 1.2629e+00,  1.9082e-01, -6.5546e-01,  ...,  1.2150e+00,\n",
       "           -1.6671e+00,  3.7921e-01],\n",
       "          ...,\n",
       "          [-1.2394e-01, -6.7347e-01, -4.3637e-01,  ..., -1.5820e+00,\n",
       "            3.2199e-01,  5.4300e-01],\n",
       "          [ 1.3230e+00,  6.3381e-02, -9.2493e-01,  ...,  4.6110e-01,\n",
       "            5.3722e-01, -5.0323e-01],\n",
       "          [-1.3806e+00,  1.2831e+00, -2.8375e-01,  ...,  1.3308e+00,\n",
       "           -1.5027e+00, -3.8670e-01]],\n",
       " \n",
       "         ...,\n",
       " \n",
       "         [[ 7.5083e-01, -4.6460e-01,  1.3483e+00,  ..., -1.0214e+00,\n",
       "           -3.2544e-03,  7.8525e-01],\n",
       "          [ 9.1523e-02,  9.0366e-01, -1.6912e+00,  ..., -2.0706e-01,\n",
       "            1.4856e-01,  2.4260e-01],\n",
       "          [-4.1043e-01, -5.9067e-01, -1.1201e+00,  ...,  8.4376e-01,\n",
       "            5.5233e-01,  1.4988e-02],\n",
       "          ...,\n",
       "          [ 1.4036e+00,  1.9654e+00, -2.4362e-01,  ..., -1.2801e-01,\n",
       "            6.8969e-01, -9.6234e-01],\n",
       "          [-1.5798e-01, -2.2464e-01,  1.4114e-02,  ...,  1.5085e+00,\n",
       "            1.0932e+00, -5.2679e-01],\n",
       "          [-8.2151e-01,  1.4081e+00, -2.9026e-01,  ...,  1.1706e+00,\n",
       "           -1.5951e+00, -7.3100e-01]],\n",
       " \n",
       "         [[-2.4303e-01, -1.1702e+00,  1.7523e+00,  ..., -9.2264e-01,\n",
       "            2.4939e-01,  9.1570e-01],\n",
       "          [ 7.6744e-01,  6.4551e-01,  1.7841e+00,  ..., -7.2696e-01,\n",
       "            1.5882e+00,  7.1398e-01],\n",
       "          [ 9.3942e-01,  1.2181e+00,  8.3634e-01,  ...,  1.2611e+00,\n",
       "           -3.9203e-01, -8.7355e-01],\n",
       "          ...,\n",
       "          [ 9.3579e-02, -9.3899e-01,  9.3185e-01,  ..., -1.6180e+00,\n",
       "            8.4136e-03,  2.7005e-02],\n",
       "          [-1.2166e-01,  7.4792e-02,  1.0148e+00,  ..., -1.2195e+00,\n",
       "           -3.4130e-01, -2.8729e-01],\n",
       "          [-1.3589e+00,  1.3988e+00, -5.6863e-01,  ...,  1.3521e+00,\n",
       "           -1.6915e+00, -8.5629e-01]],\n",
       " \n",
       "         [[ 2.2139e-01, -2.0532e-02,  3.6360e-01,  ..., -1.0198e+00,\n",
       "            7.9939e-01,  8.8378e-01],\n",
       "          [-3.0207e-01,  8.8731e-01, -1.8306e+00,  ..., -4.8861e-01,\n",
       "           -3.3107e-01,  4.1623e-01],\n",
       "          [-5.0036e-01, -5.6939e-01, -1.1005e+00,  ...,  1.2787e+00,\n",
       "            5.0076e-01,  4.5834e-01],\n",
       "          ...,\n",
       "          [-1.2578e+00, -1.2232e+00, -5.7531e-02,  ..., -1.4654e+00,\n",
       "           -1.1082e-01, -1.1048e-01],\n",
       "          [-2.6565e-01, -1.7413e+00,  1.4335e+00,  ...,  3.8052e-01,\n",
       "           -8.0612e-01,  1.0886e-01],\n",
       "          [-1.3351e+00,  1.4882e+00, -3.4651e-01,  ...,  1.0965e+00,\n",
       "           -1.5196e+00, -7.9382e-01]]], grad_fn=<NativeLayerNormBackward0>))"
      ]
     },
     "execution_count": 22,
     "metadata": {},
     "output_type": "execute_result"
    }
   ],
   "source": [
    "max_input_length = 512\n",
    "max_target_length = 128\n",
    "batch_size = 32\n",
    "\n",
    "vocab_size = len(tokenizer.vocab)\n",
    "num_heads = 8\n",
    "embed_dim = 512\n",
    "dropout = 0.5\n",
    "\n",
    "model = Decoder(num_heads, embed_dim, max_input_length, dropout)\n",
    "embed = nn.Embedding(vocab_size, embed_dim, padding_idx=article_vectorizer.pad_idx)\n",
    "for out_dict in generate_batches(dataset=train_dataset, batch_size=batch_size):\n",
    "  output = model(embed(out_dict['x']))\n",
    "  break\n",
    "output.shape, output"
   ]
  },
  {
   "cell_type": "code",
   "execution_count": null,
   "id": "4e80ea8a",
   "metadata": {},
   "outputs": [],
   "source": []
  }
 ],
 "metadata": {
  "kernelspec": {
   "display_name": "DataScienceClass",
   "language": "python",
   "name": "python3"
  },
  "language_info": {
   "codemirror_mode": {
    "name": "ipython",
    "version": 3
   },
   "file_extension": ".py",
   "mimetype": "text/x-python",
   "name": "python",
   "nbconvert_exporter": "python",
   "pygments_lexer": "ipython3",
   "version": "3.12.7"
  }
 },
 "nbformat": 4,
 "nbformat_minor": 5
}
