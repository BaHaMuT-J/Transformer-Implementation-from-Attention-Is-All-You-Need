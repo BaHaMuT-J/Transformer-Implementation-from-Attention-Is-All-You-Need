{
 "cells": [
  {
   "cell_type": "code",
   "execution_count": null,
   "id": "2eb8ed21",
   "metadata": {},
   "outputs": [],
   "source": [
    "from datasets import load_dataset, load_from_disk\n",
    "\n",
    "import json\n",
    "from collections import Counter\n",
    "\n",
    "import numpy as np\n",
    "import pandas as pd\n",
    "import matplotlib.pyplot as plt\n",
    "\n",
    "from minbpe import BasicTokenizer\n",
    "\n",
    "import torch\n",
    "from torch import nn\n",
    "import torch.optim as optim\n",
    "from torch.utils.data import  Dataset, DataLoader\n",
    "\n",
    "from evaluate import load"
   ]
  },
  {
   "cell_type": "markdown",
   "id": "82e12e01",
   "metadata": {},
   "source": [
    "## Read Data"
   ]
  },
  {
   "cell_type": "code",
   "execution_count": null,
   "id": "0cc74f5e",
   "metadata": {},
   "outputs": [],
   "source": [
    "ds = load_dataset(\"abisee/cnn_dailymail\", \"3.0.0\")\n",
    "\n",
    "# Save to disk\n",
    "# ds.save_to_disk(\"data/cnn_dailymail_dataset\")\n",
    "\n",
    "ds"
   ]
  },
  {
   "cell_type": "code",
   "execution_count": 4,
   "id": "97234a43",
   "metadata": {},
   "outputs": [
    {
     "data": {
      "text/plain": [
       "DatasetDict({\n",
       "    train: Dataset({\n",
       "        features: ['article', 'highlights', 'id'],\n",
       "        num_rows: 287113\n",
       "    })\n",
       "    validation: Dataset({\n",
       "        features: ['article', 'highlights', 'id'],\n",
       "        num_rows: 13368\n",
       "    })\n",
       "    test: Dataset({\n",
       "        features: ['article', 'highlights', 'id'],\n",
       "        num_rows: 11490\n",
       "    })\n",
       "})"
      ]
     },
     "execution_count": 4,
     "metadata": {},
     "output_type": "execute_result"
    }
   ],
   "source": [
    "# If you already save to disk\n",
    "ds = load_from_disk(\"data/cnn_dailymail_dataset\")\n",
    "ds"
   ]
  },
  {
   "cell_type": "code",
   "execution_count": 9,
   "id": "14e95a1b",
   "metadata": {},
   "outputs": [
    {
     "data": {
      "text/plain": [
       "(Dataset({\n",
       "     features: ['article', 'highlights'],\n",
       "     num_rows: 287113\n",
       " }),\n",
       " Dataset({\n",
       "     features: ['article', 'highlights'],\n",
       "     num_rows: 13368\n",
       " }),\n",
       " Dataset({\n",
       "     features: ['article', 'highlights'],\n",
       "     num_rows: 11490\n",
       " }))"
      ]
     },
     "execution_count": 9,
     "metadata": {},
     "output_type": "execute_result"
    }
   ],
   "source": [
    "train_data = ds['train'].select_columns([\"article\", \"highlights\"])\n",
    "val_data = ds['validation'].select_columns([\"article\", \"highlights\"])\n",
    "test_data = ds['test'].select_columns([\"article\", \"highlights\"])\n",
    "train_data, val_data, test_data"
   ]
  },
  {
   "cell_type": "markdown",
   "id": "1503fb1d",
   "metadata": {},
   "source": [
    "## Tokenization"
   ]
  },
  {
   "cell_type": "markdown",
   "id": "643ad841",
   "metadata": {},
   "source": [
    "### Tokenizer"
   ]
  },
  {
   "cell_type": "code",
   "execution_count": null,
   "id": "8452af7b",
   "metadata": {},
   "outputs": [
    {
     "data": {
      "text/plain": [
       "3530528"
      ]
     },
     "execution_count": 14,
     "metadata": {},
     "output_type": "execute_result"
    }
   ],
   "source": [
    "# The data used for training\n",
    "all_articles_text = \" \".join(train_data[\"article\"][:1000])\n",
    "len(all_articles_text)"
   ]
  },
  {
   "cell_type": "code",
   "execution_count": null,
   "id": "eb2b373d",
   "metadata": {},
   "outputs": [],
   "source": [
    "tokenizer = BasicTokenizer()\n",
    "tokenizer.train(all_articles_text, vocab_size=1024)"
   ]
  },
  {
   "cell_type": "code",
   "execution_count": null,
   "id": "e9e25f99",
   "metadata": {},
   "outputs": [
    {
     "data": {
      "text/plain": [
       "[76, 79, 78, 68, 79]"
      ]
     },
     "execution_count": 18,
     "metadata": {},
     "output_type": "execute_result"
    }
   ],
   "source": [
    "# See how it encode\n",
    "encoded_article_0 = tokenizer.encode(train_data['article'][0])\n",
    "encoded_article_0[:5]"
   ]
  },
  {
   "cell_type": "code",
   "execution_count": 26,
   "id": "0875b4a7",
   "metadata": {},
   "outputs": [
    {
     "data": {
      "text/plain": [
       "('LONDON, England (Reuters) -- Harry Potter star Daniel Radcliffe gains access to a reported £20 million ($41.1 million) fortune as he turns 18 on Monday, but he insists the money won\\'t cast a spell on him. Daniel Radcliffe as Harry Potter in \"Harry Potter and the Order of the Phoenix\" To the disappointment of gossip columnists around the world, the young actor says he has no plans to fritter his cash away on fast cars, drink and celebrity parties. \"I don\\'t plan to be one of those people who, as soon as they turn 18, suddenly buy themselves a massive sports car collection or something similar,\" he told an Australian interviewer earlier this month. \"I don\\'t think I\\'ll be particularly extravagant. \"The things I like buying are things that cost about 10 pounds -- books and CDs and DVDs.\" At 18, Radcliffe will be able to gamble in a casino, buy a drink in a pub or see the horror film \"Hostel: Part II,\" currently six places below his number one movie on the UK box office chart. Details of how he\\'ll mark his landmark birthday are under wraps. His agent and publicist had no comment on his plans. \"I\\'ll definitely have some sort of party,\" he said in an interview. \"Hopefully none of you will be reading about it.\" Radcliffe\\'s earnings from the first five Potter films have been held in a trust fund which he has not been able to touch. Despite his growing fame and riches, the actor says he is keeping his feet firmly on the ground. \"People are always looking to say \\'kid star goes off the rails,\\'\" he told reporters last month. \"But I try very hard not to go that way because it would be too easy for them.\" His latest outing as the boy wizard in \"Harry Potter and the Order of the Phoenix\" is breaking records on both sides of the Atlantic and he will reprise the role in the last two films.  Watch I-Reporter give her review of Potter\\'s latest » . There is life beyond Potter, however. The Londoner has filmed a TV movie called \"My Boy Jack,\" about author Rudyard Kipling and his son, due for release later this year. He will also appear in \"December Boys,\" an Australian film about four boys who escape an orphanage. Earlier this year, he made his stage debut playing a tortured teenager in Peter Shaffer\\'s \"Equus.\" Meanwhile, he is braced for even closer media scrutiny now that he\\'s legally an adult: \"I just think I\\'m going to be more sort of fair game,\" he told Reuters. E-mail to a friend . Copyright 2007 Reuters. All rights reserved.This material may not be published, broadcast, rewritten, or redistributed.',\n",
       " True)"
      ]
     },
     "execution_count": 26,
     "metadata": {},
     "output_type": "execute_result"
    }
   ],
   "source": [
    "# See how it decode\n",
    "decoded_article_0 = tokenizer.decode(encoded_article_0)\n",
    "decoded_article_0, decoded_article_0 == train_data['article'][0]"
   ]
  },
  {
   "cell_type": "code",
   "execution_count": null,
   "id": "2275d418",
   "metadata": {},
   "outputs": [],
   "source": [
    "# Add special tokens, we do not need <unk> here because data is in english and fit in ASCII\n",
    "max_vocab_id = list(tokenizer.vocab.keys())[-1]\n",
    "tokenizer.special_tokens = {\n",
    "    \"<sos>\": max_vocab_id + 1,\n",
    "    \"<eos>\": max_vocab_id + 2,\n",
    "    \"<unk>\": max_vocab_id + 3,\n",
    "    \"<pad>\": max_vocab_id + 4,\n",
    "}"
   ]
  },
  {
   "cell_type": "code",
   "execution_count": null,
   "id": "70b78ef0",
   "metadata": {},
   "outputs": [
    {
     "data": {
      "text/plain": [
       "('<sos> LONDON, England (Reuters) -- Harry Potter star Daniel Radcliffe gains access to a reported £20 million ($41.1 million) fortune as he turns 18 on Monday, but he insists the money won\\'t cast a spell on him. Daniel Radcliffe as Harry Potter in \"Harry Potter and the Order of the Phoenix\" To the disappointment of gossip columnists around the world, the young actor says he has no plans to fritter his cash away on fast cars, drink and celebrity parties. \"I don\\'t plan to be one of those people who, as soon as they turn 18, suddenly buy themselves a massive sports car collection or something similar,\" he told an Australian interviewer earlier this month. \"I don\\'t think I\\'ll be particularly extravagant. \"The things I like buying are things that cost about 10 pounds -- books and CDs and DVDs.\" At 18, Radcliffe will be able to gamble in a casino, buy a drink in a pub or see the horror film \"Hostel: Part II,\" currently six places below his number one movie on the UK box office chart. Details of how he\\'ll mark his landmark birthday are under wraps. His agent and publicist had no comment on his plans. \"I\\'ll definitely have some sort of party,\" he said in an interview. \"Hopefully none of you will be reading about it.\" Radcliffe\\'s earnings from the first five Potter films have been held in a trust fund which he has not been able to touch. Despite his growing fame and riches, the actor says he is keeping his feet firmly on the ground. \"People are always looking to say \\'kid star goes off the rails,\\'\" he told reporters last month. \"But I try very hard not to go that way because it would be too easy for them.\" His latest outing as the boy wizard in \"Harry Potter and the Order of the Phoenix\" is breaking records on both sides of the Atlantic and he will reprise the role in the last two films.  Watch I-Reporter give her review of Potter\\'s latest » . There is life beyond Potter, however. The Londoner has filmed a TV movie called \"My Boy Jack,\" about author Rudyard Kipling and his son, due for release later this year. He will also appear in \"December Boys,\" an Australian film about four boys who escape an orphanage. Earlier this year, he made his stage debut playing a tortured teenager in Peter Shaffer\\'s \"Equus.\" Meanwhile, he is braced for even closer media scrutiny now that he\\'s legally an adult: \"I just think I\\'m going to be more sort of fair game,\" he told Reuters. E-mail to a friend . Copyright 2007 Reuters. All rights reserved.This material may not be published, broadcast, rewritten, or redistributed. <eos> <pad> <pad>',\n",
       " True)"
      ]
     },
     "execution_count": 34,
     "metadata": {},
     "output_type": "execute_result"
    }
   ],
   "source": [
    "# See how it works with special tokens\n",
    "encoded_special_0 = tokenizer.encode(f\"<sos> {train_data['article'][0]} <eos> <pad> <pad>\")\n",
    "decoded_special_0 = tokenizer.decode(encoded_special_0)\n",
    "decoded_special_0, decoded_special_0 == f\"<sos> {train_data['article'][0]} <eos> <pad> <pad>\""
   ]
  },
  {
   "cell_type": "code",
   "execution_count": 30,
   "id": "c1f5d367",
   "metadata": {},
   "outputs": [],
   "source": [
    "# Save to disk\n",
    "tokenizer.save(\"model/model_article_1000\")"
   ]
  },
  {
   "cell_type": "code",
   "execution_count": 46,
   "id": "1c101fe3",
   "metadata": {},
   "outputs": [],
   "source": [
    "# Load from disk\n",
    "tokenizer = BasicTokenizer()\n",
    "tokenizer.load(\"model/model_article_1000.model\")"
   ]
  },
  {
   "cell_type": "markdown",
   "id": "883b59bb",
   "metadata": {},
   "source": [
    "### Tokenize Data"
   ]
  },
  {
   "cell_type": "code",
   "execution_count": 48,
   "id": "884bc133",
   "metadata": {},
   "outputs": [
    {
     "data": {
      "application/vnd.jupyter.widget-view+json": {
       "model_id": "8cfd675715ea402f94980c34f0a89f10",
       "version_major": 2,
       "version_minor": 0
      },
      "text/plain": [
       "Map:   0%|          | 0/10000 [00:00<?, ? examples/s]"
      ]
     },
     "metadata": {},
     "output_type": "display_data"
    },
    {
     "data": {
      "application/vnd.jupyter.widget-view+json": {
       "model_id": "7c29b55e95924f97889aef3e63b5cbdb",
       "version_major": 2,
       "version_minor": 0
      },
      "text/plain": [
       "Map:   0%|          | 0/2500 [00:00<?, ? examples/s]"
      ]
     },
     "metadata": {},
     "output_type": "display_data"
    },
    {
     "data": {
      "application/vnd.jupyter.widget-view+json": {
       "model_id": "0ff699248f41495aafe7277bc3ea73e1",
       "version_major": 2,
       "version_minor": 0
      },
      "text/plain": [
       "Map:   0%|          | 0/2500 [00:00<?, ? examples/s]"
      ]
     },
     "metadata": {},
     "output_type": "display_data"
    }
   ],
   "source": [
    "def tokenize_fields(example):\n",
    "    example[\"article\"] = tokenizer.encode(example[\"article\"])\n",
    "    example[\"highlights\"] = tokenizer.encode(example[\"highlights\"])\n",
    "    return example\n",
    "\n",
    "# Tokenize each split\n",
    "train_tokenized = train_data.select(range(10_000)).map(tokenize_fields)\n",
    "val_tokenized = val_data.select(range(2500)).map(tokenize_fields)\n",
    "test_tokenized = test_data.select(range(2500)).map(tokenize_fields)"
   ]
  },
  {
   "cell_type": "code",
   "execution_count": 49,
   "id": "1db2f5cf",
   "metadata": {},
   "outputs": [
    {
     "data": {
      "application/vnd.jupyter.widget-view+json": {
       "model_id": "db019d03c44247a98faa93cfa30993e6",
       "version_major": 2,
       "version_minor": 0
      },
      "text/plain": [
       "Saving the dataset (0/1 shards):   0%|          | 0/10000 [00:00<?, ? examples/s]"
      ]
     },
     "metadata": {},
     "output_type": "display_data"
    },
    {
     "data": {
      "application/vnd.jupyter.widget-view+json": {
       "model_id": "c51652ba30c448bc88818cb891e3f3e6",
       "version_major": 2,
       "version_minor": 0
      },
      "text/plain": [
       "Saving the dataset (0/1 shards):   0%|          | 0/2500 [00:00<?, ? examples/s]"
      ]
     },
     "metadata": {},
     "output_type": "display_data"
    },
    {
     "data": {
      "application/vnd.jupyter.widget-view+json": {
       "model_id": "76f300bb35994f6a8dca7c2df5528e4b",
       "version_major": 2,
       "version_minor": 0
      },
      "text/plain": [
       "Saving the dataset (0/1 shards):   0%|          | 0/2500 [00:00<?, ? examples/s]"
      ]
     },
     "metadata": {},
     "output_type": "display_data"
    }
   ],
   "source": [
    "# Save to disk\n",
    "train_tokenized.save_to_disk(\"data/cnn_train_tokenized_10k\")\n",
    "val_tokenized.save_to_disk(\"data/cnn_val_tokenized_2500\")\n",
    "test_tokenized.save_to_disk(\"data/cnn_test_tokenized_2500\")"
   ]
  },
  {
   "cell_type": "code",
   "execution_count": 50,
   "id": "ffd69a09",
   "metadata": {},
   "outputs": [],
   "source": [
    "# If you already save to disk\n",
    "train_tokenized = load_from_disk(\"data/cnn_train_tokenized_10k\")\n",
    "val_tokenized = load_from_disk(\"data/cnn_val_tokenized_2500\")\n",
    "test_tokenized = load_from_disk(\"data/cnn_test_tokenized_2500\")"
   ]
  },
  {
   "cell_type": "markdown",
   "id": "20d77b17",
   "metadata": {},
   "source": [
    "## Vectorizer"
   ]
  },
  {
   "cell_type": "code",
   "execution_count": null,
   "id": "ec568f06",
   "metadata": {},
   "outputs": [],
   "source": [
    "class Vectorizer:\n",
    "  def __init__(self, tokenizer: BasicTokenizer):\n",
    "    self.tokenizer = tokenizer\n",
    "    self.vocab_size = len(tokenizer.vocab)\n",
    "    self.sos_idx = tokenizer.special_tokens[\"<sos>\"]\n",
    "    self.eos_idx = tokenizer.special_tokens[\"<eos>\"]\n",
    "    self.pad_idx = tokenizer.special_tokens[\"<pad>\"]\n",
    "\n",
    "  # Add <sos> and <eos> at the start and end, pad data if necessasry\n",
    "  def index_vectorize(self, tokens, max_length=1024):\n",
    "    indices = tokens[:max_length - 2]\n",
    "    indices = [self.sos_idx] + indices + [self.eos_idx]\n",
    "    indices += [self.pad_idx] * (max_length - len(indices))\n",
    "    return indices"
   ]
  },
  {
   "cell_type": "code",
   "execution_count": 60,
   "id": "55d1b19d",
   "metadata": {},
   "outputs": [],
   "source": [
    "article_vectorizer = Vectorizer(tokenizer)"
   ]
  },
  {
   "cell_type": "code",
   "execution_count": 61,
   "id": "674a996c",
   "metadata": {},
   "outputs": [
    {
     "data": {
      "text/plain": [
       "'<sos>LONDON, England (Reuters) -- Harry Potter star Daniel Radcliffe gains access to a reported £20 million ($41.1 million) fortune as he turns 18 on Monday, but he insists the money won\\'t cast a spell on him. Daniel Radcliffe as Harry Potter in \"Harry Potter and the Order of the Phoenix\" To the disappointment of gossip columnists around the world, the young actor says he has no plans to fritter his cash away on fast cars, drink and celebrity parties. \"I don\\'t plan to be one of those people who, as soon as they turn 18, suddenly buy themselves a massive sports car collection or something similar,\" he told an Australian interviewer earlier this month. \"I don\\'t think I\\'ll be particularly extravagant. \"The things I like buying are things that cost about 10 pounds -- books and CDs and DVDs.\" At 18, Radcliffe will be able to gamble in a casino, buy a drink in a pub or see the horror film \"Hostel: Part II,\" currently six places below his number one movie on the UK box office chart. Details of how he\\'ll mark his landmark birthday are under wraps. His agent and publicist had no comment on his plans. \"I\\'ll definitely have some sort of party,\" he said in an interview. \"Hopefully none of you will be reading about it.\" Radcliffe\\'s earnings from the first five Potter films have been held in a trust fund which he has not been able to touch. Despite his growing fame and riches, the actor says he is keeping his feet firmly on the ground. \"People are always looking to say \\'kid star goes off the rails,\\'\" he told reporters last month. \"But I try very hard not to go that way because it would be too easy for them.\" His latest outing as the boy wizard in \"Harry Potter and the Order of the Phoenix\" is breaking records on both sides of the Atlantic and he will reprise the role in the last two films.  Watch I-Reporter give her review of Potter\\'s latest » . There is life beyond Potter, however. The Londoner has filmed a TV movie called \"My Boy Jack,\" about author Rudyard Kipling and his son, due for release later this year. He will also appear in \"December Boys,\" an Australian film about four boys who escape an orphanage. Earlier this year, he made his stage debut playing a tortured teenager in Peter Shaffer\\'s \"Equus.\" Meanwhile, he is braced for even closer media scrutiny now that he\\'s legally an adult: \"I just think I\\'m going to be more sort of fair game,\" he told Reuters. E-mail to a friend . Copyright 2007 Reuters. All rights reserved.This material may not be published, broadcast, rewritten, or redistributed.<eos><pad><pad><pad><pad><pad>'"
      ]
     },
     "execution_count": 61,
     "metadata": {},
     "output_type": "execute_result"
    }
   ],
   "source": [
    "tokenizer.decode(article_vectorizer.index_vectorize(encoded_article_0))"
   ]
  },
  {
   "cell_type": "markdown",
   "id": "8b23f27d",
   "metadata": {},
   "source": [
    "## Dataset"
   ]
  },
  {
   "cell_type": "code",
   "execution_count": 83,
   "id": "610deb49",
   "metadata": {},
   "outputs": [],
   "source": [
    "class IndexArticleDataset(Dataset):\n",
    "  def __init__(self, input, target, vectorizer: Vectorizer, max_input_length=1024, max_target_length=128):\n",
    "    self.input = input\n",
    "    self.target = target\n",
    "    self.vectorizer = vectorizer\n",
    "    \n",
    "    self.max_input_length = max_input_length\n",
    "    self.max_target_length = max_target_length\n",
    "    \n",
    "    self.sos_index = vectorizer.sos_idx\n",
    "    self.eos_index = vectorizer.eos_idx\n",
    "    self.pad_index = vectorizer.pad_idx\n",
    "\n",
    "  def __len__(self):\n",
    "    return len(self.input)\n",
    "\n",
    "  def __getitem__(self, index):\n",
    "    return {'x': torch.as_tensor(self.vectorizer.index_vectorize(self.input[index], self.max_input_length)),\n",
    "            'y': torch.as_tensor(self.vectorizer.index_vectorize(self.target[index], self.max_target_length))}\n",
    "\n",
    "  def get_vectorizer(self):\n",
    "    return self.vectorizer \n",
    "  \n",
    "  def get_num_batches(self, batch_size):\n",
    "    return len(self) // batch_size "
   ]
  },
  {
   "cell_type": "code",
   "execution_count": 84,
   "id": "f1ae289e",
   "metadata": {},
   "outputs": [],
   "source": [
    "train_dataset = IndexArticleDataset(train_tokenized['article'], \n",
    "                                    train_tokenized['highlights'], \n",
    "                                    article_vectorizer,\n",
    "                                    max_input_length=512,\n",
    "                                    max_target_length=128)\n",
    "\n",
    "val_dataset = IndexArticleDataset(val_tokenized['article'], \n",
    "                                  val_tokenized['highlights'], \n",
    "                                  article_vectorizer,\n",
    "                                  max_input_length=512,\n",
    "                                  max_target_length=128)\n",
    "\n",
    "test_dataset = IndexArticleDataset(test_tokenized['article'], \n",
    "                                   test_tokenized['highlights'], \n",
    "                                   article_vectorizer,\n",
    "                                   max_input_length=512,\n",
    "                                   max_target_length=128)"
   ]
  },
  {
   "cell_type": "code",
   "execution_count": 85,
   "id": "4e698974",
   "metadata": {},
   "outputs": [
    {
     "data": {
      "text/plain": [
       "(512, 128)"
      ]
     },
     "execution_count": 85,
     "metadata": {},
     "output_type": "execute_result"
    }
   ],
   "source": [
    "out_dict = train_dataset.__getitem__(0)\n",
    "len(out_dict['x']), len(out_dict['y'])"
   ]
  },
  {
   "cell_type": "code",
   "execution_count": 87,
   "id": "4379d294",
   "metadata": {},
   "outputs": [
    {
     "data": {
      "text/plain": [
       "('<sos>LONDON, England (Reuters) -- Harry Potter star Daniel Radcliffe gains access to a reported £20 million ($41.1 million) fortune as he turns 18 on Monday, but he insists the money won\\'t cast a spell on him. Daniel Radcliffe as Harry Potter in \"Harry Potter and the Order of the Phoenix\" To the disappointment of gossip columnists around the world, the young actor says he has no plans to fritter his cash away on fast cars, drink and celebrity parties. \"I don\\'t plan to be one of those people who, as soon as they turn 18, suddenly buy themselves a massive sports car collection or something similar,\" he told an Australian interviewer earlier this month. \"I don\\'t think I\\'ll be particularly extravagant. \"The things I like buying are things that cost about 10 pounds -- books and CDs and DVDs.\" At 18, Radcliffe will be able to gamble in a casino, buy a drink in a pub or see the horror film \"Hostel: Part II,\" currently six places below his number one movie on the UK box office chart. Details of how he\\'ll mark his landmark birthday are under wraps. His agent and publicist had no comment on his plans. \"I\\'ll definitely have some sort of party,\" he said in an interview. \"Hopefully none of you will be reading about it.\" Rad<eos>',\n",
       " \"<sos>Harry Potter star Daniel Radcliffe gets £20M fortune as he turns 18 Monday .\\nYoung actor says he has no plans to fritter his cash away .\\nRadcliffe's earnings from first five Potter films have been held in trust fund .<eos><pad><pad><pad><pad><pad><pad><pad><pad><pad><pad><pad><pad><pad><pad><pad><pad><pad><pad><pad><pad><pad><pad><pad><pad><pad><pad><pad><pad>\")"
      ]
     },
     "execution_count": 87,
     "metadata": {},
     "output_type": "execute_result"
    }
   ],
   "source": [
    "tokenizer.decode(out_dict['x'].numpy()), tokenizer.decode(out_dict['y'].numpy())"
   ]
  },
  {
   "cell_type": "markdown",
   "id": "6e6407bc",
   "metadata": {},
   "source": [
    "## Dataloader"
   ]
  },
  {
   "cell_type": "code",
   "execution_count": 90,
   "id": "1d7cab0b",
   "metadata": {},
   "outputs": [],
   "source": [
    "def generate_batches(dataset, batch_size, \n",
    "                     shuffle=True,\n",
    "                     drop_last=True, \n",
    "                     device=\"cpu\"):\n",
    "  \n",
    "  dataloader = DataLoader(dataset=dataset, \n",
    "                          batch_size=batch_size,\n",
    "                          shuffle=shuffle, \n",
    "                          drop_last=drop_last)\n",
    "\n",
    "  for data_dict in dataloader:\n",
    "    out_data_dict = {}\n",
    "    for name, tensor in data_dict.items():\n",
    "      out_data_dict[name] = data_dict[name].to(device)\n",
    "    yield out_data_dict"
   ]
  },
  {
   "cell_type": "code",
   "execution_count": 91,
   "id": "7fc1b81f",
   "metadata": {},
   "outputs": [
    {
     "name": "stdout",
     "output_type": "stream",
     "text": [
      "x shape: torch.Size([32, 512]), y shape: torch.Size([32, 128])\n",
      "tensor([[1024,   40,   69,  ...,   78,  900, 1025],\n",
      "        [1024,   40,   84,  ...,  401,  276, 1025],\n",
      "        [1024,   78,   69,  ..., 1027, 1027, 1027],\n",
      "        ...,\n",
      "        [1024,   76,   79,  ...,  735,  373, 1025],\n",
      "        [1024,  702,   65,  ...,  456,  412, 1025],\n",
      "        [1024,  651,   32,  ...,  926,  549, 1025]])\n",
      "tensor([[1024,   69,  115,  ..., 1027, 1027, 1027],\n",
      "        [1024,   65,   99,  ..., 1027, 1027, 1027],\n",
      "        [1024,   80,  304,  ...,  331,   67, 1025],\n",
      "        ...,\n",
      "        [1024,   82,  265,  ..., 1027, 1027, 1027],\n",
      "        [1024,   78,   69,  ..., 1027, 1027, 1027],\n",
      "        [1024,   75,  612,  ...,  334,  473, 1025]])\n"
     ]
    }
   ],
   "source": [
    "# Using generate_batches to get 1 sample at a time\n",
    "for out_dict in generate_batches(dataset=train_dataset, batch_size=32):\n",
    "  x_data = out_dict['x']\n",
    "  y_target = out_dict['y']\n",
    "  print(f\"x shape: {x_data.shape}, y shape: {y_target.shape}\")\n",
    "  print(x_data)\n",
    "  print(y_target)\n",
    "  break"
   ]
  },
  {
   "cell_type": "code",
   "execution_count": null,
   "id": "2f567a72",
   "metadata": {},
   "outputs": [],
   "source": []
  }
 ],
 "metadata": {
  "kernelspec": {
   "display_name": "DataScienceClass",
   "language": "python",
   "name": "python3"
  },
  "language_info": {
   "codemirror_mode": {
    "name": "ipython",
    "version": 3
   },
   "file_extension": ".py",
   "mimetype": "text/x-python",
   "name": "python",
   "nbconvert_exporter": "python",
   "pygments_lexer": "ipython3",
   "version": "3.12.7"
  }
 },
 "nbformat": 4,
 "nbformat_minor": 5
}
