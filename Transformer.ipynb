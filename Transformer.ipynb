{
 "cells": [
  {
   "cell_type": "code",
   "execution_count": null,
   "id": "2eb8ed21",
   "metadata": {},
   "outputs": [],
   "source": [
    "from datasets import load_dataset, load_from_disk\n",
    "\n",
    "import numpy as np\n",
    "import pandas as pd\n",
    "import matplotlib.pyplot as plt\n",
    "\n",
    "from minbpe import BasicTokenizer\n",
    "\n",
    "import torch\n",
    "from torch import nn\n",
    "import torch.optim as optim\n",
    "from torch.nn import functional as F\n",
    "from torch.utils.data import  Dataset, DataLoader\n",
    "\n",
    "from evaluate import load"
   ]
  },
  {
   "cell_type": "markdown",
   "id": "82e12e01",
   "metadata": {},
   "source": [
    "## Read Data"
   ]
  },
  {
   "cell_type": "code",
   "execution_count": null,
   "id": "0cc74f5e",
   "metadata": {},
   "outputs": [],
   "source": [
    "ds = load_dataset(\"abisee/cnn_dailymail\", \"3.0.0\")\n",
    "\n",
    "# Save to disk\n",
    "# ds.save_to_disk(\"data/cnn_dailymail_dataset\")\n",
    "\n",
    "ds"
   ]
  },
  {
   "cell_type": "code",
   "execution_count": 2,
   "id": "97234a43",
   "metadata": {},
   "outputs": [
    {
     "data": {
      "text/plain": [
       "DatasetDict({\n",
       "    train: Dataset({\n",
       "        features: ['article', 'highlights', 'id'],\n",
       "        num_rows: 287113\n",
       "    })\n",
       "    validation: Dataset({\n",
       "        features: ['article', 'highlights', 'id'],\n",
       "        num_rows: 13368\n",
       "    })\n",
       "    test: Dataset({\n",
       "        features: ['article', 'highlights', 'id'],\n",
       "        num_rows: 11490\n",
       "    })\n",
       "})"
      ]
     },
     "execution_count": 2,
     "metadata": {},
     "output_type": "execute_result"
    }
   ],
   "source": [
    "# If you already save to disk\n",
    "ds = load_from_disk(\"data/cnn_dailymail_dataset\")\n",
    "ds"
   ]
  },
  {
   "cell_type": "code",
   "execution_count": 3,
   "id": "14e95a1b",
   "metadata": {},
   "outputs": [
    {
     "data": {
      "text/plain": [
       "(Dataset({\n",
       "     features: ['article', 'highlights'],\n",
       "     num_rows: 287113\n",
       " }),\n",
       " Dataset({\n",
       "     features: ['article', 'highlights'],\n",
       "     num_rows: 13368\n",
       " }),\n",
       " Dataset({\n",
       "     features: ['article', 'highlights'],\n",
       "     num_rows: 11490\n",
       " }))"
      ]
     },
     "execution_count": 3,
     "metadata": {},
     "output_type": "execute_result"
    }
   ],
   "source": [
    "train_data = ds['train'].select_columns([\"article\", \"highlights\"])\n",
    "val_data = ds['validation'].select_columns([\"article\", \"highlights\"])\n",
    "test_data = ds['test'].select_columns([\"article\", \"highlights\"])\n",
    "train_data, val_data, test_data"
   ]
  },
  {
   "cell_type": "markdown",
   "id": "1503fb1d",
   "metadata": {},
   "source": [
    "## Tokenization"
   ]
  },
  {
   "cell_type": "markdown",
   "id": "643ad841",
   "metadata": {},
   "source": [
    "### Tokenizer"
   ]
  },
  {
   "cell_type": "code",
   "execution_count": null,
   "id": "8452af7b",
   "metadata": {},
   "outputs": [
    {
     "data": {
      "text/plain": [
       "3530528"
      ]
     },
     "execution_count": 14,
     "metadata": {},
     "output_type": "execute_result"
    }
   ],
   "source": [
    "# The data used for training\n",
    "all_articles_text = \" \".join(train_data[\"article\"][:1000])\n",
    "len(all_articles_text)"
   ]
  },
  {
   "cell_type": "code",
   "execution_count": null,
   "id": "eb2b373d",
   "metadata": {},
   "outputs": [],
   "source": [
    "tokenizer = BasicTokenizer()\n",
    "tokenizer.train(all_articles_text, vocab_size=1024)"
   ]
  },
  {
   "cell_type": "code",
   "execution_count": null,
   "id": "e9e25f99",
   "metadata": {},
   "outputs": [
    {
     "data": {
      "text/plain": [
       "[76, 79, 78, 68, 79]"
      ]
     },
     "execution_count": 18,
     "metadata": {},
     "output_type": "execute_result"
    }
   ],
   "source": [
    "# See how it encode\n",
    "encoded_article_0 = tokenizer.encode(train_data['article'][0])\n",
    "encoded_article_0[:5]"
   ]
  },
  {
   "cell_type": "code",
   "execution_count": 26,
   "id": "0875b4a7",
   "metadata": {},
   "outputs": [
    {
     "data": {
      "text/plain": [
       "('LONDON, England (Reuters) -- Harry Potter star Daniel Radcliffe gains access to a reported £20 million ($41.1 million) fortune as he turns 18 on Monday, but he insists the money won\\'t cast a spell on him. Daniel Radcliffe as Harry Potter in \"Harry Potter and the Order of the Phoenix\" To the disappointment of gossip columnists around the world, the young actor says he has no plans to fritter his cash away on fast cars, drink and celebrity parties. \"I don\\'t plan to be one of those people who, as soon as they turn 18, suddenly buy themselves a massive sports car collection or something similar,\" he told an Australian interviewer earlier this month. \"I don\\'t think I\\'ll be particularly extravagant. \"The things I like buying are things that cost about 10 pounds -- books and CDs and DVDs.\" At 18, Radcliffe will be able to gamble in a casino, buy a drink in a pub or see the horror film \"Hostel: Part II,\" currently six places below his number one movie on the UK box office chart. Details of how he\\'ll mark his landmark birthday are under wraps. His agent and publicist had no comment on his plans. \"I\\'ll definitely have some sort of party,\" he said in an interview. \"Hopefully none of you will be reading about it.\" Radcliffe\\'s earnings from the first five Potter films have been held in a trust fund which he has not been able to touch. Despite his growing fame and riches, the actor says he is keeping his feet firmly on the ground. \"People are always looking to say \\'kid star goes off the rails,\\'\" he told reporters last month. \"But I try very hard not to go that way because it would be too easy for them.\" His latest outing as the boy wizard in \"Harry Potter and the Order of the Phoenix\" is breaking records on both sides of the Atlantic and he will reprise the role in the last two films.  Watch I-Reporter give her review of Potter\\'s latest » . There is life beyond Potter, however. The Londoner has filmed a TV movie called \"My Boy Jack,\" about author Rudyard Kipling and his son, due for release later this year. He will also appear in \"December Boys,\" an Australian film about four boys who escape an orphanage. Earlier this year, he made his stage debut playing a tortured teenager in Peter Shaffer\\'s \"Equus.\" Meanwhile, he is braced for even closer media scrutiny now that he\\'s legally an adult: \"I just think I\\'m going to be more sort of fair game,\" he told Reuters. E-mail to a friend . Copyright 2007 Reuters. All rights reserved.This material may not be published, broadcast, rewritten, or redistributed.',\n",
       " True)"
      ]
     },
     "execution_count": 26,
     "metadata": {},
     "output_type": "execute_result"
    }
   ],
   "source": [
    "# See how it decode\n",
    "decoded_article_0 = tokenizer.decode(encoded_article_0)\n",
    "decoded_article_0, decoded_article_0 == train_data['article'][0]"
   ]
  },
  {
   "cell_type": "code",
   "execution_count": null,
   "id": "2275d418",
   "metadata": {},
   "outputs": [],
   "source": [
    "# Add special tokens, we do not need <unk> here because data is in english and fit in ASCII\n",
    "max_vocab_id = list(tokenizer.vocab.keys())[-1]\n",
    "tokenizer.special_tokens = {\n",
    "    \"<sos>\": max_vocab_id + 1,\n",
    "    \"<eos>\": max_vocab_id + 2,\n",
    "    \"<unk>\": max_vocab_id + 3,\n",
    "    \"<pad>\": max_vocab_id + 4,\n",
    "}"
   ]
  },
  {
   "cell_type": "code",
   "execution_count": null,
   "id": "70b78ef0",
   "metadata": {},
   "outputs": [
    {
     "data": {
      "text/plain": [
       "('<sos> LONDON, England (Reuters) -- Harry Potter star Daniel Radcliffe gains access to a reported £20 million ($41.1 million) fortune as he turns 18 on Monday, but he insists the money won\\'t cast a spell on him. Daniel Radcliffe as Harry Potter in \"Harry Potter and the Order of the Phoenix\" To the disappointment of gossip columnists around the world, the young actor says he has no plans to fritter his cash away on fast cars, drink and celebrity parties. \"I don\\'t plan to be one of those people who, as soon as they turn 18, suddenly buy themselves a massive sports car collection or something similar,\" he told an Australian interviewer earlier this month. \"I don\\'t think I\\'ll be particularly extravagant. \"The things I like buying are things that cost about 10 pounds -- books and CDs and DVDs.\" At 18, Radcliffe will be able to gamble in a casino, buy a drink in a pub or see the horror film \"Hostel: Part II,\" currently six places below his number one movie on the UK box office chart. Details of how he\\'ll mark his landmark birthday are under wraps. His agent and publicist had no comment on his plans. \"I\\'ll definitely have some sort of party,\" he said in an interview. \"Hopefully none of you will be reading about it.\" Radcliffe\\'s earnings from the first five Potter films have been held in a trust fund which he has not been able to touch. Despite his growing fame and riches, the actor says he is keeping his feet firmly on the ground. \"People are always looking to say \\'kid star goes off the rails,\\'\" he told reporters last month. \"But I try very hard not to go that way because it would be too easy for them.\" His latest outing as the boy wizard in \"Harry Potter and the Order of the Phoenix\" is breaking records on both sides of the Atlantic and he will reprise the role in the last two films.  Watch I-Reporter give her review of Potter\\'s latest » . There is life beyond Potter, however. The Londoner has filmed a TV movie called \"My Boy Jack,\" about author Rudyard Kipling and his son, due for release later this year. He will also appear in \"December Boys,\" an Australian film about four boys who escape an orphanage. Earlier this year, he made his stage debut playing a tortured teenager in Peter Shaffer\\'s \"Equus.\" Meanwhile, he is braced for even closer media scrutiny now that he\\'s legally an adult: \"I just think I\\'m going to be more sort of fair game,\" he told Reuters. E-mail to a friend . Copyright 2007 Reuters. All rights reserved.This material may not be published, broadcast, rewritten, or redistributed. <eos> <pad> <pad>',\n",
       " True)"
      ]
     },
     "execution_count": 34,
     "metadata": {},
     "output_type": "execute_result"
    }
   ],
   "source": [
    "# See how it works with special tokens\n",
    "encoded_special_0 = tokenizer.encode(f\"<sos> {train_data['article'][0]} <eos> <pad> <pad>\")\n",
    "decoded_special_0 = tokenizer.decode(encoded_special_0)\n",
    "decoded_special_0, decoded_special_0 == f\"<sos> {train_data['article'][0]} <eos> <pad> <pad>\""
   ]
  },
  {
   "cell_type": "code",
   "execution_count": 30,
   "id": "c1f5d367",
   "metadata": {},
   "outputs": [],
   "source": [
    "# Save to disk\n",
    "tokenizer.save(\"model/model_article_1000\")"
   ]
  },
  {
   "cell_type": "code",
   "execution_count": 4,
   "id": "1c101fe3",
   "metadata": {},
   "outputs": [],
   "source": [
    "# Load from disk\n",
    "tokenizer = BasicTokenizer()\n",
    "tokenizer.load(\"model/model_article_1000.model\")"
   ]
  },
  {
   "cell_type": "markdown",
   "id": "883b59bb",
   "metadata": {},
   "source": [
    "### Tokenize Data"
   ]
  },
  {
   "cell_type": "code",
   "execution_count": null,
   "id": "884bc133",
   "metadata": {},
   "outputs": [],
   "source": [
    "def tokenize_fields(example):\n",
    "    example[\"article\"] = tokenizer.encode(example[\"article\"])\n",
    "    example[\"highlights\"] = tokenizer.encode(example[\"highlights\"])\n",
    "    return example\n",
    "\n",
    "# Tokenize each split\n",
    "train_tokenized = train_data.select(range(10_000)).map(tokenize_fields)\n",
    "val_tokenized = val_data.select(range(2500)).map(tokenize_fields)\n",
    "test_tokenized = test_data.select(range(2500)).map(tokenize_fields)"
   ]
  },
  {
   "cell_type": "code",
   "execution_count": null,
   "id": "1db2f5cf",
   "metadata": {},
   "outputs": [],
   "source": [
    "# Save to disk\n",
    "train_tokenized.save_to_disk(\"data/cnn_train_tokenized_10k\")\n",
    "val_tokenized.save_to_disk(\"data/cnn_val_tokenized_2500\")\n",
    "test_tokenized.save_to_disk(\"data/cnn_test_tokenized_2500\")"
   ]
  },
  {
   "cell_type": "code",
   "execution_count": 5,
   "id": "ffd69a09",
   "metadata": {},
   "outputs": [],
   "source": [
    "# If you already save to disk\n",
    "train_tokenized = load_from_disk(\"data/cnn_train_tokenized_10k\")\n",
    "val_tokenized = load_from_disk(\"data/cnn_val_tokenized_2500\")\n",
    "test_tokenized = load_from_disk(\"data/cnn_test_tokenized_2500\")"
   ]
  },
  {
   "cell_type": "markdown",
   "id": "20d77b17",
   "metadata": {},
   "source": [
    "## Vectorizer"
   ]
  },
  {
   "cell_type": "code",
   "execution_count": 6,
   "id": "ec568f06",
   "metadata": {},
   "outputs": [],
   "source": [
    "class Vectorizer:\n",
    "  def __init__(self, tokenizer: BasicTokenizer):\n",
    "    self.tokenizer = tokenizer\n",
    "    self.vocab_size = len(tokenizer.vocab)\n",
    "    self.sos_idx = tokenizer.special_tokens[\"<sos>\"]\n",
    "    self.eos_idx = tokenizer.special_tokens[\"<eos>\"]\n",
    "    self.pad_idx = tokenizer.special_tokens[\"<pad>\"]\n",
    "\n",
    "  # Add <sos> and <eos> at the start and end, pad data if necessasry\n",
    "  def index_vectorize(self, tokens, max_length=1024):\n",
    "    indices = tokens[:max_length - 2]\n",
    "    indices = [self.sos_idx] + indices + [self.eos_idx]\n",
    "    indices += [self.pad_idx] * (max_length - len(indices))\n",
    "    return indices"
   ]
  },
  {
   "cell_type": "code",
   "execution_count": 7,
   "id": "55d1b19d",
   "metadata": {},
   "outputs": [],
   "source": [
    "article_vectorizer = Vectorizer(tokenizer)"
   ]
  },
  {
   "cell_type": "code",
   "execution_count": 61,
   "id": "674a996c",
   "metadata": {},
   "outputs": [
    {
     "data": {
      "text/plain": [
       "'<sos>LONDON, England (Reuters) -- Harry Potter star Daniel Radcliffe gains access to a reported £20 million ($41.1 million) fortune as he turns 18 on Monday, but he insists the money won\\'t cast a spell on him. Daniel Radcliffe as Harry Potter in \"Harry Potter and the Order of the Phoenix\" To the disappointment of gossip columnists around the world, the young actor says he has no plans to fritter his cash away on fast cars, drink and celebrity parties. \"I don\\'t plan to be one of those people who, as soon as they turn 18, suddenly buy themselves a massive sports car collection or something similar,\" he told an Australian interviewer earlier this month. \"I don\\'t think I\\'ll be particularly extravagant. \"The things I like buying are things that cost about 10 pounds -- books and CDs and DVDs.\" At 18, Radcliffe will be able to gamble in a casino, buy a drink in a pub or see the horror film \"Hostel: Part II,\" currently six places below his number one movie on the UK box office chart. Details of how he\\'ll mark his landmark birthday are under wraps. His agent and publicist had no comment on his plans. \"I\\'ll definitely have some sort of party,\" he said in an interview. \"Hopefully none of you will be reading about it.\" Radcliffe\\'s earnings from the first five Potter films have been held in a trust fund which he has not been able to touch. Despite his growing fame and riches, the actor says he is keeping his feet firmly on the ground. \"People are always looking to say \\'kid star goes off the rails,\\'\" he told reporters last month. \"But I try very hard not to go that way because it would be too easy for them.\" His latest outing as the boy wizard in \"Harry Potter and the Order of the Phoenix\" is breaking records on both sides of the Atlantic and he will reprise the role in the last two films.  Watch I-Reporter give her review of Potter\\'s latest » . There is life beyond Potter, however. The Londoner has filmed a TV movie called \"My Boy Jack,\" about author Rudyard Kipling and his son, due for release later this year. He will also appear in \"December Boys,\" an Australian film about four boys who escape an orphanage. Earlier this year, he made his stage debut playing a tortured teenager in Peter Shaffer\\'s \"Equus.\" Meanwhile, he is braced for even closer media scrutiny now that he\\'s legally an adult: \"I just think I\\'m going to be more sort of fair game,\" he told Reuters. E-mail to a friend . Copyright 2007 Reuters. All rights reserved.This material may not be published, broadcast, rewritten, or redistributed.<eos><pad><pad><pad><pad><pad>'"
      ]
     },
     "execution_count": 61,
     "metadata": {},
     "output_type": "execute_result"
    }
   ],
   "source": [
    "tokenizer.decode(article_vectorizer.index_vectorize(encoded_article_0))"
   ]
  },
  {
   "cell_type": "markdown",
   "id": "8b23f27d",
   "metadata": {},
   "source": [
    "## Dataset"
   ]
  },
  {
   "cell_type": "code",
   "execution_count": 8,
   "id": "610deb49",
   "metadata": {},
   "outputs": [],
   "source": [
    "class IndexArticleDataset(Dataset):\n",
    "  def __init__(self, input, target, vectorizer: Vectorizer, max_input_length=1024, max_target_length=128):\n",
    "    self.input = input\n",
    "    self.target = target\n",
    "    self.vectorizer = vectorizer\n",
    "    \n",
    "    self.max_input_length = max_input_length\n",
    "    self.max_target_length = max_target_length\n",
    "    \n",
    "    self.sos_index = vectorizer.sos_idx\n",
    "    self.eos_index = vectorizer.eos_idx\n",
    "    self.pad_index = vectorizer.pad_idx\n",
    "\n",
    "  def __len__(self):\n",
    "    return len(self.input)\n",
    "\n",
    "  def __getitem__(self, index):\n",
    "    return {'x': torch.as_tensor(self.vectorizer.index_vectorize(self.input[index], self.max_input_length)),\n",
    "            'y': torch.as_tensor(self.vectorizer.index_vectorize(self.target[index], self.max_target_length))}\n",
    "\n",
    "  def get_vectorizer(self):\n",
    "    return self.vectorizer \n",
    "  \n",
    "  def get_num_batches(self, batch_size):\n",
    "    return len(self) // batch_size "
   ]
  },
  {
   "cell_type": "code",
   "execution_count": 9,
   "id": "f1ae289e",
   "metadata": {},
   "outputs": [],
   "source": [
    "train_dataset = IndexArticleDataset(train_tokenized['article'], \n",
    "                                    train_tokenized['highlights'], \n",
    "                                    article_vectorizer,\n",
    "                                    max_input_length=512,\n",
    "                                    max_target_length=128)\n",
    "\n",
    "val_dataset = IndexArticleDataset(val_tokenized['article'], \n",
    "                                  val_tokenized['highlights'], \n",
    "                                  article_vectorizer,\n",
    "                                  max_input_length=512,\n",
    "                                  max_target_length=128)\n",
    "\n",
    "test_dataset = IndexArticleDataset(test_tokenized['article'], \n",
    "                                   test_tokenized['highlights'], \n",
    "                                   article_vectorizer,\n",
    "                                   max_input_length=512,\n",
    "                                   max_target_length=128)"
   ]
  },
  {
   "cell_type": "code",
   "execution_count": 85,
   "id": "4e698974",
   "metadata": {},
   "outputs": [
    {
     "data": {
      "text/plain": [
       "(512, 128)"
      ]
     },
     "execution_count": 85,
     "metadata": {},
     "output_type": "execute_result"
    }
   ],
   "source": [
    "out_dict = train_dataset.__getitem__(0)\n",
    "len(out_dict['x']), len(out_dict['y'])"
   ]
  },
  {
   "cell_type": "code",
   "execution_count": 87,
   "id": "4379d294",
   "metadata": {},
   "outputs": [
    {
     "data": {
      "text/plain": [
       "('<sos>LONDON, England (Reuters) -- Harry Potter star Daniel Radcliffe gains access to a reported £20 million ($41.1 million) fortune as he turns 18 on Monday, but he insists the money won\\'t cast a spell on him. Daniel Radcliffe as Harry Potter in \"Harry Potter and the Order of the Phoenix\" To the disappointment of gossip columnists around the world, the young actor says he has no plans to fritter his cash away on fast cars, drink and celebrity parties. \"I don\\'t plan to be one of those people who, as soon as they turn 18, suddenly buy themselves a massive sports car collection or something similar,\" he told an Australian interviewer earlier this month. \"I don\\'t think I\\'ll be particularly extravagant. \"The things I like buying are things that cost about 10 pounds -- books and CDs and DVDs.\" At 18, Radcliffe will be able to gamble in a casino, buy a drink in a pub or see the horror film \"Hostel: Part II,\" currently six places below his number one movie on the UK box office chart. Details of how he\\'ll mark his landmark birthday are under wraps. His agent and publicist had no comment on his plans. \"I\\'ll definitely have some sort of party,\" he said in an interview. \"Hopefully none of you will be reading about it.\" Rad<eos>',\n",
       " \"<sos>Harry Potter star Daniel Radcliffe gets £20M fortune as he turns 18 Monday .\\nYoung actor says he has no plans to fritter his cash away .\\nRadcliffe's earnings from first five Potter films have been held in trust fund .<eos><pad><pad><pad><pad><pad><pad><pad><pad><pad><pad><pad><pad><pad><pad><pad><pad><pad><pad><pad><pad><pad><pad><pad><pad><pad><pad><pad><pad>\")"
      ]
     },
     "execution_count": 87,
     "metadata": {},
     "output_type": "execute_result"
    }
   ],
   "source": [
    "tokenizer.decode(out_dict['x'].numpy()), tokenizer.decode(out_dict['y'].numpy())"
   ]
  },
  {
   "cell_type": "markdown",
   "id": "6e6407bc",
   "metadata": {},
   "source": [
    "## Dataloader"
   ]
  },
  {
   "cell_type": "code",
   "execution_count": 10,
   "id": "1d7cab0b",
   "metadata": {},
   "outputs": [],
   "source": [
    "def generate_batches(dataset, batch_size, \n",
    "                     shuffle=True,\n",
    "                     drop_last=True, \n",
    "                     device=\"cpu\"):\n",
    "  \n",
    "  dataloader = DataLoader(dataset=dataset, \n",
    "                          batch_size=batch_size,\n",
    "                          shuffle=shuffle, \n",
    "                          drop_last=drop_last)\n",
    "\n",
    "  for data_dict in dataloader:\n",
    "    out_data_dict = {}\n",
    "    for name, tensor in data_dict.items():\n",
    "      out_data_dict[name] = data_dict[name].to(device)\n",
    "    yield out_data_dict"
   ]
  },
  {
   "cell_type": "code",
   "execution_count": 91,
   "id": "7fc1b81f",
   "metadata": {},
   "outputs": [
    {
     "name": "stdout",
     "output_type": "stream",
     "text": [
      "x shape: torch.Size([32, 512]), y shape: torch.Size([32, 128])\n",
      "tensor([[1024,   40,   69,  ...,   78,  900, 1025],\n",
      "        [1024,   40,   84,  ...,  401,  276, 1025],\n",
      "        [1024,   78,   69,  ..., 1027, 1027, 1027],\n",
      "        ...,\n",
      "        [1024,   76,   79,  ...,  735,  373, 1025],\n",
      "        [1024,  702,   65,  ...,  456,  412, 1025],\n",
      "        [1024,  651,   32,  ...,  926,  549, 1025]])\n",
      "tensor([[1024,   69,  115,  ..., 1027, 1027, 1027],\n",
      "        [1024,   65,   99,  ..., 1027, 1027, 1027],\n",
      "        [1024,   80,  304,  ...,  331,   67, 1025],\n",
      "        ...,\n",
      "        [1024,   82,  265,  ..., 1027, 1027, 1027],\n",
      "        [1024,   78,   69,  ..., 1027, 1027, 1027],\n",
      "        [1024,   75,  612,  ...,  334,  473, 1025]])\n"
     ]
    }
   ],
   "source": [
    "# Using generate_batches to get 1 sample at a time\n",
    "for out_dict in generate_batches(dataset=train_dataset, batch_size=32):\n",
    "  x_data = out_dict['x']\n",
    "  y_target = out_dict['y']\n",
    "  print(f\"x shape: {x_data.shape}, y shape: {y_target.shape}\")\n",
    "  print(x_data)\n",
    "  print(y_target)\n",
    "  break"
   ]
  },
  {
   "cell_type": "markdown",
   "id": "e6123f56",
   "metadata": {},
   "source": [
    "## Model & Training"
   ]
  },
  {
   "cell_type": "code",
   "execution_count": 11,
   "id": "2f567a72",
   "metadata": {},
   "outputs": [
    {
     "data": {
      "text/plain": [
       "'cuda'"
      ]
     },
     "execution_count": 11,
     "metadata": {},
     "output_type": "execute_result"
    }
   ],
   "source": [
    "SEED = 42\n",
    "\n",
    "np.random.seed(SEED)\n",
    "torch.manual_seed(SEED)\n",
    "torch.cuda.manual_seed_all(SEED)\n",
    "\n",
    "device = 'cuda' if torch.cuda.is_available() else 'cpu'\n",
    "device"
   ]
  },
  {
   "cell_type": "code",
   "execution_count": null,
   "id": "f710b561",
   "metadata": {},
   "outputs": [],
   "source": [
    "class Head(nn.Module):\n",
    "  def __init__(self, embed_dim, head_dim, max_input_length, dropout=0.5):\n",
    "    super().__init__()\n",
    "    self.key = nn.Linear(embed_dim, head_dim, bias=False)\n",
    "    self.query = nn.Linear(embed_dim, head_dim, bias=False)\n",
    "    self.value = nn.Linear(embed_dim, head_dim, bias=False)\n",
    "    self.register_buffer('mask', torch.tril(torch.ones(max_input_length, max_input_length)))\n",
    "    self.dropout = nn.Dropout(dropout)\n",
    "  \n",
    "  def forward(self, x):\n",
    "    B, T, C = x.shape # (batch_size, time_steps, channels=embed_dim)\n",
    "    print(x.shape)\n",
    "\n",
    "    K = self.key(x)\n",
    "    Q = self.query(x)\n",
    "\n",
    "    KQ = (Q @ K.transpose(-2, -1)) / (np.sqrt(K.shape[-1]))\n",
    "    KQ_masked = KQ.masked_fill(self.mask[:T, :T] == 0, float('-inf'))\n",
    "    KQ_masked_softmaxed = torch.softmax(KQ_masked, dim=-1)\n",
    "    KQ_masked_softmaxed_dropouted = self.dropout(KQ_masked_softmaxed)\n",
    "\n",
    "    V = self.value(x)\n",
    "    out = KQ_masked_softmaxed_dropouted @ V\n",
    "    return out"
   ]
  },
  {
   "cell_type": "code",
   "execution_count": 44,
   "id": "3199dc90",
   "metadata": {},
   "outputs": [
    {
     "name": "stdout",
     "output_type": "stream",
     "text": [
      "torch.Size([32, 512, 384])\n"
     ]
    },
    {
     "data": {
      "text/plain": [
       "(torch.Size([32, 512, 64]),\n",
       " tensor([[[ 0.0000e+00,  0.0000e+00,  0.0000e+00,  ...,  0.0000e+00,\n",
       "            0.0000e+00,  0.0000e+00],\n",
       "          [ 0.0000e+00,  0.0000e+00,  0.0000e+00,  ...,  0.0000e+00,\n",
       "            0.0000e+00,  0.0000e+00],\n",
       "          [ 1.1415e-01, -3.5010e-01, -1.3832e-01,  ..., -1.7253e-01,\n",
       "           -1.8687e-01, -1.6783e-01],\n",
       "          ...,\n",
       "          [-1.2226e-01,  3.0152e-02, -3.4217e-02,  ...,  7.6638e-02,\n",
       "            4.0369e-02, -1.7236e-02],\n",
       "          [-7.0580e-02,  6.7779e-02,  1.5401e-02,  ...,  2.9139e-02,\n",
       "            6.9165e-02, -6.1011e-02],\n",
       "          [-1.3810e-01,  7.4844e-02,  3.8650e-02,  ...,  7.5975e-02,\n",
       "           -7.4598e-03, -8.3447e-03]],\n",
       " \n",
       "         [[ 0.0000e+00,  0.0000e+00,  0.0000e+00,  ...,  0.0000e+00,\n",
       "            0.0000e+00,  0.0000e+00],\n",
       "          [ 2.3859e-01, -3.8825e-01,  1.1316e-01,  ..., -1.6055e+00,\n",
       "           -6.7899e-01, -8.7203e-01],\n",
       "          [-1.3432e-01, -4.1814e-02, -6.1103e-02,  ..., -6.7272e-01,\n",
       "           -3.5377e-01, -9.3582e-01],\n",
       "          ...,\n",
       "          [-1.2603e-01,  6.3420e-02, -2.2970e-02,  ...,  6.6477e-02,\n",
       "            7.4864e-02, -1.4225e-02],\n",
       "          [-1.1420e-01,  1.2478e-01, -1.9358e-02,  ...,  5.5648e-02,\n",
       "            5.1778e-03,  2.2728e-02],\n",
       "          [-1.2156e-01,  1.4295e-01, -7.2455e-02,  ...,  2.1806e-02,\n",
       "            3.1194e-03,  4.1083e-02]],\n",
       " \n",
       "         [[ 0.0000e+00,  0.0000e+00,  0.0000e+00,  ...,  0.0000e+00,\n",
       "            0.0000e+00,  0.0000e+00],\n",
       "          [ 3.0133e-01, -9.2422e-01, -3.6515e-01,  ..., -4.5545e-01,\n",
       "           -4.9333e-01, -4.4306e-01],\n",
       "          [ 0.0000e+00,  0.0000e+00,  0.0000e+00,  ...,  0.0000e+00,\n",
       "            0.0000e+00,  0.0000e+00],\n",
       "          ...,\n",
       "          [-4.7086e-02, -1.6968e-02, -3.5033e-02,  ..., -9.6697e-03,\n",
       "           -2.2104e-02,  8.0445e-03],\n",
       "          [-6.5355e-02,  9.9786e-03, -2.8168e-02,  ..., -3.1990e-02,\n",
       "            1.9808e-02, -1.7406e-02],\n",
       "          [-8.3123e-02,  3.3005e-02, -7.7773e-02,  ..., -5.6507e-02,\n",
       "            4.0465e-02,  1.1422e-02]],\n",
       " \n",
       "         ...,\n",
       " \n",
       "         [[ 5.5126e-01, -1.6908e+00, -6.6801e-01,  ..., -8.3320e-01,\n",
       "           -9.0249e-01, -8.1053e-01],\n",
       "          [ 2.5465e-01, -7.8104e-01, -3.0858e-01,  ..., -3.8489e-01,\n",
       "           -4.1690e-01, -3.7441e-01],\n",
       "          [ 4.1194e-02, -6.2978e-01, -4.0687e-01,  ..., -1.4390e-01,\n",
       "           -3.6679e-01, -6.7456e-01],\n",
       "          ...,\n",
       "          [-8.2584e-02,  4.5182e-03,  2.7746e-02,  ...,  9.4501e-02,\n",
       "           -4.0816e-02, -3.5366e-02],\n",
       "          [-5.2647e-02,  3.7266e-02,  4.3165e-02,  ...,  2.1450e-02,\n",
       "           -2.3220e-02, -7.0937e-03],\n",
       "          [-4.1881e-02,  1.8776e-02, -4.4227e-02,  ..., -2.7859e-03,\n",
       "           -3.9239e-02, -2.5499e-02]],\n",
       " \n",
       "         [[ 0.0000e+00,  0.0000e+00,  0.0000e+00,  ...,  0.0000e+00,\n",
       "            0.0000e+00,  0.0000e+00],\n",
       "          [ 3.6629e-01, -3.6012e-01, -4.9767e-01,  ..., -6.6113e-01,\n",
       "           -1.0129e+00, -7.5283e-01],\n",
       "          [ 1.5740e-01, -4.8278e-01, -1.9074e-01,  ..., -2.3791e-01,\n",
       "           -2.5769e-01, -2.3144e-01],\n",
       "          ...,\n",
       "          [-1.2233e-01,  5.8351e-02,  2.0978e-02,  ...,  1.1261e-01,\n",
       "            4.4511e-02,  5.8137e-03],\n",
       "          [-1.6271e-01,  1.0237e-01,  3.4397e-02,  ...,  1.0715e-01,\n",
       "            1.8017e-02, -7.6143e-02],\n",
       "          [-1.1907e-01,  5.0493e-02, -4.7031e-02,  ...,  2.9554e-02,\n",
       "            3.6608e-02, -3.5885e-02]],\n",
       " \n",
       "         [[ 0.0000e+00,  0.0000e+00,  0.0000e+00,  ...,  0.0000e+00,\n",
       "            0.0000e+00,  0.0000e+00],\n",
       "          [ 2.3859e-01, -3.8825e-01,  1.1316e-01,  ..., -1.6055e+00,\n",
       "           -6.7899e-01, -8.7203e-01],\n",
       "          [-2.6116e-01, -9.0175e-02,  3.5261e-01,  ..., -5.1484e-01,\n",
       "            3.3276e-01, -7.5234e-01],\n",
       "          ...,\n",
       "          [-9.8218e-02,  9.9961e-02, -1.0530e-03,  ...,  1.0056e-01,\n",
       "            3.1057e-02, -8.8453e-03],\n",
       "          [-1.1032e-01,  8.2721e-02, -1.8511e-02,  ...,  8.2056e-02,\n",
       "            7.6633e-02,  1.5854e-02],\n",
       "          [-1.0740e-01,  1.5755e-01, -3.2428e-02,  ...,  1.4433e-02,\n",
       "            4.1121e-02, -6.4104e-03]]], grad_fn=<UnsafeViewBackward0>))"
      ]
     },
     "execution_count": 44,
     "metadata": {},
     "output_type": "execute_result"
    }
   ],
   "source": [
    "max_input_length = 512\n",
    "max_target_length = 128\n",
    "\n",
    "embed_dim = 384\n",
    "vocab_size = len(tokenizer.vocab)\n",
    "\n",
    "head_dim = 64\n",
    "\n",
    "dropout = 0.5\n",
    "\n",
    "model = Head(embed_dim, head_dim, max_input_length, dropout)\n",
    "embed = nn.Embedding(vocab_size, embed_dim, padding_idx=article_vectorizer.pad_idx)\n",
    "for out_dict in generate_batches(dataset=train_dataset, batch_size=32):\n",
    "  output = model(embed(out_dict['x']))\n",
    "  break\n",
    "output.shape, output"
   ]
  },
  {
   "cell_type": "code",
   "execution_count": 45,
   "id": "d52e531d",
   "metadata": {},
   "outputs": [
    {
     "data": {
      "text/plain": [
       "torch.Size([32, 512])"
      ]
     },
     "execution_count": 45,
     "metadata": {},
     "output_type": "execute_result"
    }
   ],
   "source": [
    "out_dict['x'].shape"
   ]
  },
  {
   "cell_type": "code",
   "execution_count": null,
   "id": "3280f580",
   "metadata": {},
   "outputs": [],
   "source": []
  }
 ],
 "metadata": {
  "kernelspec": {
   "display_name": "DataScienceClass",
   "language": "python",
   "name": "python3"
  },
  "language_info": {
   "codemirror_mode": {
    "name": "ipython",
    "version": 3
   },
   "file_extension": ".py",
   "mimetype": "text/x-python",
   "name": "python",
   "nbconvert_exporter": "python",
   "pygments_lexer": "ipython3",
   "version": "3.12.7"
  }
 },
 "nbformat": 4,
 "nbformat_minor": 5
}
